{
 "cells": [
  {
   "cell_type": "markdown",
   "metadata": {},
   "source": [
    "# STEP 1 -- PROBLEM STATEMENT"
   ]
  },
  {
   "cell_type": "markdown",
   "metadata": {},
   "source": [
    "What are you trying to solve with the data\n",
    "Things to consider include data has to be Specific, Measurable, Relevant, knowledge of the timeline and actions to achieve the analysis "
   ]
  },
  {
   "cell_type": "markdown",
   "metadata": {},
   "source": [
    "Example - How to increase access to care of Minority communities in San Diego by 2030 through data Analysis"
   ]
  },
  {
   "cell_type": "markdown",
   "metadata": {},
   "source": [
    "# STEP 2 -- DATA COLLECTION"
   ]
  },
  {
   "cell_type": "markdown",
   "metadata": {},
   "source": [
    "This is where data is gathered from known sources or collected by the analyst. \n",
    "Serious Analysis require data that is validated "
   ]
  },
  {
   "cell_type": "markdown",
   "metadata": {},
   "source": [
    "IMPORT NECESSARY LABS AND THE DATA"
   ]
  },
  {
   "cell_type": "markdown",
   "metadata": {},
   "source": [
    "# STEP 3 -- DATA CLEANING\n",
    "Crucial step of preparing the data"
   ]
  },
  {
   "cell_type": "markdown",
   "metadata": {},
   "source": [
    "a)Rename column names"
   ]
  },
  {
   "cell_type": "markdown",
   "metadata": {},
   "source": [
    "b) Remove duplicates"
   ]
  },
  {
   "cell_type": "markdown",
   "metadata": {},
   "source": [
    "c) Take care of missing values"
   ]
  },
  {
   "cell_type": "markdown",
   "metadata": {},
   "source": [
    "d) Remove irrelevant files or data"
   ]
  },
  {
   "cell_type": "markdown",
   "metadata": {},
   "source": [
    "e) Address the data types"
   ]
  },
  {
   "cell_type": "markdown",
   "metadata": {},
   "source": [
    "f) Address Outliers -- "
   ]
  },
  {
   "cell_type": "markdown",
   "metadata": {},
   "source": [
    "g) Address file names/row labels to include unique values or mislabeled"
   ]
  },
  {
   "cell_type": "markdown",
   "metadata": {},
   "source": [
    "h) Is data good for analysis -- save the file for use in excel, sql or even python"
   ]
  },
  {
   "cell_type": "markdown",
   "metadata": {},
   "source": [
    "# STEP 4 -- EXPLORATORY DATA ANALYSIS\n",
    "This is where statistical characteristics, visualization and testing hypothesis occurs. \n",
    "This step seeks to identify patterns, outliers and test assumptions with an aim of finding a model that fits the data\n",
    "There are Four Types"
   ]
  },
  {
   "cell_type": "markdown",
   "metadata": {},
   "source": [
    "a) Univariate non-Graphical -- make population observations and sample distributions of single variables ---- measures of spread, measure of central tendecy and outlier detection"
   ]
  },
  {
   "cell_type": "markdown",
   "metadata": {},
   "source": [
    "b) Univariate graphical -- Single variable graphical analysis ---- Histograms, Boxplots, Stem and Leaf"
   ]
  },
  {
   "cell_type": "markdown",
   "metadata": {},
   "source": [
    "c) Multivariate non-graphical -- Relationship between two or more variables ---- correlations or covariance"
   ]
  },
  {
   "cell_type": "markdown",
   "metadata": {},
   "source": [
    "d) Multivariate graphical ---- bar plots, scatterplots"
   ]
  },
  {
   "cell_type": "markdown",
   "metadata": {},
   "source": [
    "# STEP 5 -- FEATURE ENGINEERING\n",
    "A process of transforming raw data into features that better represent the underlying problem to predictive models resulting in improved model accuracy on unseen data\n",
    "\n",
    "Approaches to Feature Engineering Include"
   ]
  },
  {
   "cell_type": "markdown",
   "metadata": {},
   "source": [
    "a) FEATURE EXTRACTION\n",
    "Select or combine variables into features to reduce dataset dimensionality --- Principle Component Analysis, Nonlinear dimensionality reduction, unsupervised clustering methods"
   ]
  },
  {
   "cell_type": "markdown",
   "metadata": {},
   "source": [
    "b) FEATURE SELECTION\n",
    "Selecting features with most value to analysis --- Variance thresholding, Pearson correlation, LASSO"
   ]
  },
  {
   "cell_type": "markdown",
   "metadata": {},
   "source": [
    "C) FEATURE CONSTRUCTION\n",
    "Manual building of more efficient features -- dynamic aggregation of relational attributes"
   ]
  },
  {
   "cell_type": "markdown",
   "metadata": {},
   "source": [
    "d) FEATURE LEARNING\n",
    "Automatics identification and use of features --- Restricted Boltzmann machine, k-means clustering"
   ]
  },
  {
   "cell_type": "markdown",
   "metadata": {},
   "source": [
    "--USING FEATURE IMPORTANCE SCORING METHODS\n",
    "Scoring features to determine their usefulness during the analysis. Methods Include"
   ]
  },
  {
   "cell_type": "markdown",
   "metadata": {},
   "source": [
    "        a) correlation coefficient between feature and the target variable (target is what you are trying to predict)"
   ]
  },
  {
   "cell_type": "markdown",
   "metadata": {},
   "source": [
    "        b) co-integration between two time series -- for time series data"
   ]
  },
  {
   "cell_type": "markdown",
   "metadata": {},
   "source": [
    "        c) predictive models --- random forest, gradient boosting machine"
   ]
  },
  {
   "cell_type": "markdown",
   "metadata": {},
   "source": [
    "        d) Chi-squared test between target and numerical variable"
   ]
  },
  {
   "cell_type": "markdown",
   "metadata": {},
   "source": [
    "     e) Recursive Feature Elimination"
   ]
  },
  {
   "cell_type": "markdown",
   "metadata": {},
   "source": [
    "# STEP 6  -- MODELLING\n",
    "\n",
    "Machine learning models are classified as either Supervised or Unsupervised learning"
   ]
  },
  {
   "cell_type": "markdown",
   "metadata": {},
   "source": [
    "SUPERVISED is where function maps an input to an output based on input-output pairs. Machine Learning learns from input-output training data to make predictions on unseen data(test data)\n",
    "\n",
    "UNSUPERVISED is where model looks for patterns in unlabelled dataset"
   ]
  },
  {
   "cell_type": "markdown",
   "metadata": {},
   "source": [
    "        SUPERVISED LEARNING\n",
    "Labelled as a Regression(output variable is a real value) or Classification (output variable is a category)"
   ]
  },
  {
   "cell_type": "markdown",
   "metadata": {},
   "source": [
    "Labelling the problem can help determine which metric to use to compare models accuracy as example"
   ]
  },
  {
   "cell_type": "markdown",
   "metadata": {},
   "source": [
    "--Regression Metrics --- Mean Squared Error(MSE), Mean Absolute Error(MAE), Root Mean Squared Error(RMSE), Mean Absolute Percentage Error(MAPE), R-squared, Adjusted R-squared"
   ]
  },
  {
   "cell_type": "markdown",
   "metadata": {},
   "source": [
    "--Classification Metrics - Accuracy, Precision, Recall, F1-score"
   ]
  },
  {
   "cell_type": "markdown",
   "metadata": {},
   "source": [
    "MODEL PREPROCESSING"
   ]
  },
  {
   "cell_type": "markdown",
   "metadata": {},
   "source": [
    "a) Splitting data into training and test datasets"
   ]
  },
  {
   "cell_type": "markdown",
   "metadata": {},
   "source": [
    "b)Standardize or Normalize data (if model's algorithm is sensitive to unscaled data)"
   ]
  },
  {
   "cell_type": "markdown",
   "metadata": {},
   "source": [
    "c) Splitting the training & test data sets into TARGET variable(what you are trying to predict) and PREDICTOR variable(features used to predict the variable)"
   ]
  },
  {
   "cell_type": "markdown",
   "metadata": {},
   "source": [
    "MACHINE LEARNING MODELS"
   ]
  },
  {
   "cell_type": "markdown",
   "metadata": {},
   "source": [
    "Supervised - Regressions --- Linear, Multivariate Linear, Support Vector Regression(SVR), Random Forest, Neural Networks"
   ]
  },
  {
   "cell_type": "markdown",
   "metadata": {},
   "source": [
    "Supervised - Classification --- Logistic Regression, Support Vector Machines(SVM), Random Forests, Neural Networks, k-Nearest Neighbor(kNN)"
   ]
  },
  {
   "cell_type": "markdown",
   "metadata": {},
   "source": [
    "Unsupervised --- K-means clustering, Principal Component Analysis(PCA), Singular Value Decomposition(SVD)"
   ]
  },
  {
   "cell_type": "markdown",
   "metadata": {},
   "source": [
    "****Once few machine learning models are build, models are to be trained with optimal machine learning parameters. Then compare metrics for each models to determine the optimal model for use"
   ]
  },
  {
   "cell_type": "markdown",
   "metadata": {},
   "source": [
    "# STEP 7  -- COMMUNICATION"
   ]
  },
  {
   "cell_type": "markdown",
   "metadata": {},
   "source": [
    "# NOTE TO SELF --\n",
    "In Previous Lab 4, I was struggling with Logistic regression and Linear regression. Linear had a higher accuracy for Lab 3 but not Lab 4, that when you choose what model to use coz in Lab 4 the Logistic Regression. And can Justify either the 0 accuracy or 0.785 "
   ]
  },
  {
   "cell_type": "markdown",
   "metadata": {},
   "source": [
    "# NOTE 2 TO SELF\n",
    "Linear Reg is about continuos values while Logistic Regression is all about bool values aka 0 or 1 / yes or no / did or did not / male or female..."
   ]
  }
 ],
 "metadata": {
  "language_info": {
   "name": "python"
  },
  "orig_nbformat": 4
 },
 "nbformat": 4,
 "nbformat_minor": 2
}
