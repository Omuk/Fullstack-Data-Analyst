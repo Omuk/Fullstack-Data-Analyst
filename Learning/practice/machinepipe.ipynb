{
 "cells": [
  {
   "cell_type": "markdown",
   "metadata": {},
   "source": [
    "# HANDLE MISSING VALUES -> CATEGORICAL ENCODING -> FEATURE SCALING -> FEATURE SELECTION -> DECISION TREES -> OUTPUT"
   ]
  }
 ],
 "metadata": {
  "language_info": {
   "name": "python"
  },
  "orig_nbformat": 4
 },
 "nbformat": 4,
 "nbformat_minor": 2
}
