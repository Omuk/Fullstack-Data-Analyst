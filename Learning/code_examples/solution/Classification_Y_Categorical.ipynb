{
 "cells": [
  {
   "cell_type": "code",
   "execution_count": null,
   "metadata": {},
   "outputs": [],
   "source": [
    "import pandas as pd\n",
    "import numpy as np \n",
    "import seaborn as sns \n",
    "sns.set(style='white', palette='muted', color_codes=True)\n",
    "import matplotlib.pyplot as plt \n",
    "plt.style.use('ggplot')\n",
    "import plotly.express as px "
   ]
  },
  {
   "cell_type": "code",
   "execution_count": null,
   "metadata": {},
   "outputs": [],
   "source": [
    "from sklearn.compose import ColumnTransformer \n",
    "from sklearn.impute import SimpleImputer \n",
    "from sklearn.ensemble import RandomForestClassifier, RandomForestRegressor \n",
    "from sklearn.linear_model import LogisticRegression, LinearRegression \n",
    "from sklearn.preprocessing import OrdinalEncoder, OneHotEncoder, LabelEncoder, MinMaxScaler, StandardScaler \n",
    "from sklearn.metrics import r2_score, accuracy_score, mean_squared_error, confusion_matrix \n",
    "from sklearn.model_selection import train_test_split\n",
    "from sklearn.neighbors import KNeighborsClassifier, KNeighborsRegressor"
   ]
  },
  {
   "cell_type": "code",
   "execution_count": null,
   "metadata": {},
   "outputs": [],
   "source": [
    "data = pd.read_csv(r'c:\\Github\\Fullstack-Data-Analyst\\Learning\\the_data\\data-lab-4-heart.csv')\n",
    "# data"
   ]
  },
  {
   "cell_type": "code",
   "execution_count": null,
   "metadata": {},
   "outputs": [],
   "source": [
    "# data.info()\n",
    "data.duplicated().sum()\n",
    "data.drop_duplicates(subset=None, keep='first', ignore_index=False, inplace=True)\n",
    "data.duplicated().sum()"
   ]
  },
  {
   "cell_type": "code",
   "execution_count": null,
   "metadata": {},
   "outputs": [],
   "source": [
    "mis_col = data.isnull().sum() * 100 /len(data)\n",
    "# mis_col.sort_values(ascending=False)"
   ]
  },
  {
   "cell_type": "code",
   "execution_count": null,
   "metadata": {},
   "outputs": [],
   "source": [
    "# data.describe()"
   ]
  },
  {
   "cell_type": "code",
   "execution_count": null,
   "metadata": {},
   "outputs": [],
   "source": [
    "f,ax = plt.subplots(figsize=(10,8))\n",
    "ax.set_title('Chol Outliers')\n",
    "\n",
    "sns.boxplot(data.chol, color='c', ax=ax)"
   ]
  },
  {
   "cell_type": "code",
   "execution_count": null,
   "metadata": {},
   "outputs": [],
   "source": [
    "data.corr()['target'].sort_values(ascending=False)"
   ]
  },
  {
   "cell_type": "code",
   "execution_count": null,
   "metadata": {},
   "outputs": [],
   "source": [
    "f,ax = plt.subplots(figsize=(10,8))\n",
    "ax.set_title('Correlation Table')\n",
    "\n",
    "data_corr = data.corr()\n",
    "sns.heatmap(data_corr, mask=np.zeros_like(data_corr, dtype=np.bool_), cmap=sns.diverging_palette(240,10, as_cmap=True),\n",
    "square=True, ax=ax)"
   ]
  },
  {
   "cell_type": "code",
   "execution_count": null,
   "metadata": {},
   "outputs": [],
   "source": [
    "y = data.target\n",
    "x = data.drop(columns=['target'], axis=1)\n"
   ]
  },
  {
   "cell_type": "code",
   "execution_count": null,
   "metadata": {},
   "outputs": [],
   "source": [
    "num_val = ['age','trestbps','chol','thalach','oldpeak' ]\n",
    "cat_val = ['sex', 'cp', 'restecg', 'exang', 'slope', 'ca', 'thal']\n",
    "\n",
    "sex_val = data.sex"
   ]
  },
  {
   "cell_type": "code",
   "execution_count": null,
   "metadata": {},
   "outputs": [],
   "source": [
    "# transfo = [('num', StandardScaler(), num_val),('cat', OrdinalEncoder(), cat_val)]\n",
    "# transform = ColumnTransformer(transformers=transfo)"
   ]
  },
  {
   "cell_type": "code",
   "execution_count": null,
   "metadata": {},
   "outputs": [],
   "source": [
    "enco_data = [('num', StandardScaler(),num_val),('cat', OrdinalEncoder(),cat_val)]\n",
    "transformed_data = ColumnTransformer(transformers=enco_data)\n",
    "transformed_data\n",
    "x = transformed_data.fit_transform(x)\n",
    "\n"
   ]
  },
  {
   "cell_type": "code",
   "execution_count": null,
   "metadata": {},
   "outputs": [],
   "source": [
    "# col_trans = ColumnTransformer([ \n",
    "#     ('num', StandardScaler(), num_val),\n",
    "#     ('cat', OrdinalEncoder(), cat_val)\n",
    "# ])\n",
    "\n",
    "# x = pd.DataFrame(col_trans.fit_transform(x))\n",
    "# x"
   ]
  },
  {
   "cell_type": "code",
   "execution_count": null,
   "metadata": {},
   "outputs": [],
   "source": [
    "# ord_sex = data.sex \n",
    "\n",
    "# orig_dic_sex = np.unique(sex_val)\n",
    "# ord_dic_sex = np.unique(ord_sex)\n",
    "\n",
    "# sex_dictionary = dict(zip(orig_dic_sex,ord_dic_sex))\n",
    "# sex_dictionary"
   ]
  },
  {
   "cell_type": "code",
   "execution_count": null,
   "metadata": {},
   "outputs": [],
   "source": [
    "# f,ax = plt.subplots(figsize=(10,8))\n",
    "# ax.set_title('Target Sex distribution')\n",
    "# sns.histplot(data[(data.sex==1)]['target'],color='c',ax=ax)"
   ]
  },
  {
   "cell_type": "code",
   "execution_count": null,
   "metadata": {},
   "outputs": [],
   "source": [
    "data.head(1)"
   ]
  },
  {
   "cell_type": "code",
   "execution_count": null,
   "metadata": {},
   "outputs": [],
   "source": [
    "x_train,x_test,y_train,y_test = train_test_split(x,y, test_size=0.3, random_state=42)"
   ]
  },
  {
   "cell_type": "code",
   "execution_count": null,
   "metadata": {},
   "outputs": [],
   "source": [
    "logreg = LogisticRegression()\n",
    "logreg.fit(x_train,y_train)"
   ]
  },
  {
   "cell_type": "code",
   "execution_count": null,
   "metadata": {},
   "outputs": [],
   "source": [
    "pred_logreg_train = logreg.predict(x_train)\n",
    "pred_logreg_test = logreg.predict(x_test)"
   ]
  },
  {
   "cell_type": "code",
   "execution_count": null,
   "metadata": {},
   "outputs": [],
   "source": [
    "score_acc_logreg_train = accuracy_score(y_train, pred_logreg_train).round(3)\n",
    "score_acc_logreg_test = accuracy_score(y_test, pred_logreg_test).round(3)\n",
    "\n",
    "acu_perf = pd.DataFrame([ \n",
    "    'LogisticRegression', score_acc_logreg_train, score_acc_logreg_test\n",
    "]).transpose()\n",
    "acu_perf.columns = ['Method', 'Accuracy Train Score', 'Accuracy Test Score']\n",
    "acu_perf"
   ]
  },
  {
   "cell_type": "code",
   "execution_count": null,
   "metadata": {},
   "outputs": [],
   "source": [
    "#Confusion Matrix are for classifiers and work same as any matrix\n",
    "\n",
    "train_conmat = { \n",
    "    'y_train' : y_train,\n",
    "    'pred_logreg_train': pred_logreg_train\n",
    "}\n",
    "\n",
    "data_matrix = pd.DataFrame( \n",
    "    train_conmat, columns=['y_train', 'pred_logreg_train']\n",
    ")\n",
    "confusion_matrix = pd.crosstab(data_matrix['y_train'], data_matrix['pred_logreg_train'], rownames=['True Train Values'], colnames=['Predicted Values'])\n",
    "\n",
    "sns.heatmap(confusion_matrix, annot=True)\n",
    "plt.show()"
   ]
  },
  {
   "cell_type": "code",
   "execution_count": null,
   "metadata": {},
   "outputs": [],
   "source": [
    "\n",
    "test_data = { \n",
    "    'y_test': y_test,\n",
    "    'pred_logreg_test' : pred_logreg_test\n",
    "}\n",
    "\n",
    "con_matr = pd.DataFrame(test_data, columns=['y_test', 'pred_logreg_test'])\n",
    "\n",
    "confusion_matrix = pd.crosstab(con_matr['y_test'], con_matr['pred_logreg_test'], rownames=['True Value'], colnames=['Predicted'])\n",
    "\n",
    "f,ax =plt.subplots(figsize=(10,8))\n",
    "ax.set_title('Knn Accuracy Score')\n",
    "sns.heatmap(confusion_matrix, annot=True)\n",
    "\n",
    "plt.show()"
   ]
  },
  {
   "cell_type": "markdown",
   "metadata": {},
   "source": [
    "# Model Tuning"
   ]
  },
  {
   "cell_type": "code",
   "execution_count": null,
   "metadata": {},
   "outputs": [],
   "source": [
    "accuracies = []\n",
    "\n",
    "for N in range(1,20):\n",
    "    knn = KNeighborsClassifier(n_neighbors=N)\n",
    "\n",
    "    knn.fit(x_train,y_train)\n",
    "    y_pred = knn.predict(x_test)\n",
    "\n",
    "    accu = accuracy_score(y_test, y_pred)\n",
    "    accuracies.append(accu)\n",
    "\n",
    "accuracies = np.array(accuracies)\n",
    "\n",
    "f,ax =plt.subplots(figsize=(10,8))\n",
    "ax.set_title('Knn Accuracy Score')\n",
    "sns.lineplot(np.arange(1,20),accuracies)"
   ]
  },
  {
   "cell_type": "code",
   "execution_count": null,
   "metadata": {},
   "outputs": [],
   "source": [
    "k_best = 1 + np.argmax(accuracies)\n",
    "best_accu = np.max(accuracies)\n",
    "\n",
    "kn_res = pd.DataFrame([k_best, best_accu]).transpose()\n",
    "kn_res.columns = ['k_best', 'best_acu']\n",
    "kn_res"
   ]
  }
 ],
 "metadata": {
  "kernelspec": {
   "display_name": "Python 3.10.5 64-bit",
   "language": "python",
   "name": "python3"
  },
  "language_info": {
   "codemirror_mode": {
    "name": "ipython",
    "version": 3
   },
   "file_extension": ".py",
   "mimetype": "text/x-python",
   "name": "python",
   "nbconvert_exporter": "python",
   "pygments_lexer": "ipython3",
   "version": "3.10.5"
  },
  "orig_nbformat": 4,
  "vscode": {
   "interpreter": {
    "hash": "d8648c7b4c41d7b1ba15281cf9494171032f5d76df8e8415c1b8fb59c6c5a947"
   }
  }
 },
 "nbformat": 4,
 "nbformat_minor": 2
}
