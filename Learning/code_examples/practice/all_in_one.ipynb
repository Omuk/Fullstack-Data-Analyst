{
 "cells": [
  {
   "cell_type": "code",
   "execution_count": null,
   "metadata": {},
   "outputs": [],
   "source": [
    "#Import Necessary Labs \n",
    "#Import the data\n",
    "#Ensure Naming of data is right\n",
    "#Find missing values by % and decide what to do with them -- Simple Imputer\n",
    "# Find Duplicates and Also decide what to do with them\n",
    "#Save the Cleaned Data\n",
    "\n",
    "                                #EXPLORATORY DATA ANALYSIS\n",
    "#Run the describe functions, interpret the result\n",
    "#Based on data analysis, either start by encoding the data or move straight to visualization\n",
    "#Label Encode the y value and use Column transformer for --- Use the data types to transform the data\n",
    "#Reshape the y target\n",
    "\n",
    "\n",
    "                    #1) Data Visualization\n",
    "#Find the correlation with target(y Value)\n",
    "#Show Correlation in a Heat Map\n",
    "#Show Distribution of target \n",
    "#Show subplot distribution\n",
    "##Run a histogram\n",
    "#ScatterPlot\n",
    "\n",
    "                    #2) Split the Data \n",
    "\n",
    "                             #CREATE MODEL\n",
    "                    #1) Create a Model with either - Linearregression, Logistic regression\n",
    "                    #1.5 Fit the data using PCA\n",
    "                    #2) Test the model (prediction)\n",
    "                    #3) Evaluate the model using R-squared, mean squared error, accuracy score, confusion matrix\n",
    "\n",
    "                            #TUNE THE MODEL\n",
    "                    #1) K-neighbors\n",
    "                            #REEVALUATE THE MODEL"
   ]
  },
  {
   "cell_type": "markdown",
   "metadata": {},
   "source": [
    "# USE LAB 5 BECAUSE OF THE MANY MISSING VALUES"
   ]
  }
 ],
 "metadata": {
  "language_info": {
   "name": "python"
  },
  "orig_nbformat": 4
 },
 "nbformat": 4,
 "nbformat_minor": 2
}
