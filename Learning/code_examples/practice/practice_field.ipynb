{
 "cells": [
  {
   "cell_type": "code",
   "execution_count": 3,
   "metadata": {},
   "outputs": [],
   "source": [
    "import pandas as pd \n",
    "import numpy as np \n",
    "import seaborn as sns \n",
    "sns.set(style='white', palette='muted',color_codes=True)\n",
    "import matplotlib.pyplot as plt \n",
    "plt.style.use('ggplot')\n",
    "import plotly.express as px"
   ]
  },
  {
   "cell_type": "code",
   "execution_count": 4,
   "metadata": {},
   "outputs": [],
   "source": [
    "from sklearn.compose import ColumnTransformer \n",
    "from sklearn.preprocessing import StandardScaler,LabelEncoder,OrdinalEncoder,OneHotEncoder,MinMaxScaler \n",
    "from sklearn.pipeline import Pipeline\n",
    "from sklearn.linear_model import LogisticRegression,LinearRegression \n",
    "from sklearn.model_selection import train_test_split \n",
    "from sklearn.ensemble import RandomForestClassifier,RandomForestRegressor \n",
    "from sklearn.neighbors import KNeighborsClassifier,KNeighborsRegressor \n",
    "from sklearn.impute import SimpleImputer \n",
    "from sklearn.metrics import r2_score, accuracy_score, mean_squared_error, confusion_matrix,recall_score,silhouette_score\n",
    "from sklearn.decomposition import PCA\n",
    "from sklearn.cluster import KMeans"
   ]
  },
  {
   "cell_type": "code",
   "execution_count": 5,
   "metadata": {},
   "outputs": [
    {
     "data": {
      "text/html": [
       "<div>\n",
       "<style scoped>\n",
       "    .dataframe tbody tr th:only-of-type {\n",
       "        vertical-align: middle;\n",
       "    }\n",
       "\n",
       "    .dataframe tbody tr th {\n",
       "        vertical-align: top;\n",
       "    }\n",
       "\n",
       "    .dataframe thead th {\n",
       "        text-align: right;\n",
       "    }\n",
       "</style>\n",
       "<table border=\"1\" class=\"dataframe\">\n",
       "  <thead>\n",
       "    <tr style=\"text-align: right;\">\n",
       "      <th></th>\n",
       "      <th>Unnamed: 0</th>\n",
       "      <th>Category</th>\n",
       "      <th>Age</th>\n",
       "      <th>Sex</th>\n",
       "      <th>ALB</th>\n",
       "      <th>ALP</th>\n",
       "      <th>ALT</th>\n",
       "      <th>AST</th>\n",
       "      <th>BIL</th>\n",
       "      <th>CHE</th>\n",
       "      <th>CHOL</th>\n",
       "      <th>CREA</th>\n",
       "      <th>GGT</th>\n",
       "      <th>PROT</th>\n",
       "    </tr>\n",
       "  </thead>\n",
       "  <tbody>\n",
       "    <tr>\n",
       "      <th>0</th>\n",
       "      <td>1</td>\n",
       "      <td>0=Blood Donor</td>\n",
       "      <td>32</td>\n",
       "      <td>m</td>\n",
       "      <td>38.5</td>\n",
       "      <td>52.5</td>\n",
       "      <td>7.7</td>\n",
       "      <td>22.1</td>\n",
       "      <td>7.5</td>\n",
       "      <td>6.93</td>\n",
       "      <td>3.23</td>\n",
       "      <td>106.0</td>\n",
       "      <td>12.1</td>\n",
       "      <td>69.0</td>\n",
       "    </tr>\n",
       "  </tbody>\n",
       "</table>\n",
       "</div>"
      ],
      "text/plain": [
       "   Unnamed: 0       Category  Age Sex   ALB   ALP  ALT   AST  BIL   CHE  CHOL  \\\n",
       "0           1  0=Blood Donor   32   m  38.5  52.5  7.7  22.1  7.5  6.93  3.23   \n",
       "\n",
       "    CREA   GGT  PROT  \n",
       "0  106.0  12.1  69.0  "
      ]
     },
     "execution_count": 5,
     "metadata": {},
     "output_type": "execute_result"
    }
   ],
   "source": [
    "data = pd.read_csv(r'c:\\Github\\Fullstack-Data-Analyst\\Learning\\the_data\\data-lab-5-hcv.csv')\n",
    "data.head(1)\n",
    "# data.info()"
   ]
  },
  {
   "cell_type": "code",
   "execution_count": 6,
   "metadata": {},
   "outputs": [
    {
     "data": {
      "text/plain": [
       "ALP           2.926829\n",
       "CHOL          1.626016\n",
       "ALB           0.162602\n",
       "ALT           0.162602\n",
       "PROT          0.162602\n",
       "Unnamed: 0    0.000000\n",
       "Category      0.000000\n",
       "Age           0.000000\n",
       "Sex           0.000000\n",
       "AST           0.000000\n",
       "BIL           0.000000\n",
       "CHE           0.000000\n",
       "CREA          0.000000\n",
       "GGT           0.000000\n",
       "dtype: float64"
      ]
     },
     "execution_count": 6,
     "metadata": {},
     "output_type": "execute_result"
    }
   ],
   "source": [
    "data.duplicated().sum()\n",
    "mis_col = data.isna().sum() * 100 /len(data)\n",
    "mis_col.sort_values(ascending=False)"
   ]
  },
  {
   "cell_type": "code",
   "execution_count": 7,
   "metadata": {},
   "outputs": [],
   "source": [
    "impu = SimpleImputer(strategy='mean',missing_values=np.NaN)\n",
    "\n",
    "miss_val = ['ALB', 'ALP', 'ALT', 'CHOL', 'PROT']\n",
    "\n",
    "data[miss_val] = impu.fit_transform(data[miss_val])"
   ]
  },
  {
   "cell_type": "code",
   "execution_count": 8,
   "metadata": {},
   "outputs": [
    {
     "data": {
      "text/plain": [
       "Unnamed: 0    0.0\n",
       "Category      0.0\n",
       "Age           0.0\n",
       "Sex           0.0\n",
       "ALB           0.0\n",
       "ALP           0.0\n",
       "ALT           0.0\n",
       "AST           0.0\n",
       "BIL           0.0\n",
       "CHE           0.0\n",
       "CHOL          0.0\n",
       "CREA          0.0\n",
       "GGT           0.0\n",
       "PROT          0.0\n",
       "dtype: float64"
      ]
     },
     "execution_count": 8,
     "metadata": {},
     "output_type": "execute_result"
    }
   ],
   "source": [
    "data.duplicated().sum()\n",
    "mis_col = data.isna().sum() * 100 /len(data)\n",
    "mis_col.sort_values(ascending=False)"
   ]
  },
  {
   "cell_type": "code",
   "execution_count": 9,
   "metadata": {},
   "outputs": [],
   "source": [
    "# data = data.drop(columns=['Unnamed: 0'],axis=1)\n",
    "data.drop(columns=['Unnamed: 0'],axis=1,inplace=True)"
   ]
  },
  {
   "cell_type": "code",
   "execution_count": 10,
   "metadata": {},
   "outputs": [],
   "source": [
    "# orig_val_cate = data.Category\n",
    "\n",
    "# cat_val = ['Category', 'Sex']\n",
    "\n",
    "\n",
    "# le = LabelEncoder()\n",
    "# # data[cat_val] = data[cat_val].apply(le.fit_transform)\n",
    "\n",
    "# le_val_cate = data.Category\n",
    "\n",
    "# orig_dic_cate = np.unique(orig_val_cate)\n",
    "# le_dic_cate = np.unique(le_val_cate)\n",
    "\n",
    "# cate_dictionary = dict(zip(orig_dic_cate,le_dic_cate))\n",
    "# cate_dictionary"
   ]
  },
  {
   "cell_type": "code",
   "execution_count": 11,
   "metadata": {},
   "outputs": [
    {
     "data": {
      "application/vnd.plotly.v1+json": {
       "config": {
        "plotlyServerURL": "https://plot.ly"
       },
       "data": [
        {
         "dimensions": [
          {
           "axis": {
            "matches": true
           },
           "label": "CHE",
           "values": [
            6.93,
            11.17,
            8.84,
            7.33,
            9.15,
            9.92,
            7.01,
            5.82,
            8.69,
            5.46,
            4.15,
            7.36,
            8.56,
            6.46,
            4.63,
            8.83,
            6.98,
            9.78,
            9.62,
            7.01,
            7.44,
            9.42,
            10.95,
            7.99,
            10.5,
            10.51,
            8.15,
            6.82,
            7.6,
            10.99,
            9.97,
            7.7,
            9.14,
            11.66,
            9.3,
            11.39,
            9.41,
            9.4,
            11.58,
            10.12,
            8.1,
            12.32,
            6.8,
            6.61,
            5.28,
            12.21,
            5.6,
            8.02,
            8.73,
            8.26,
            10.66,
            9.46,
            8.91,
            5.95,
            9.03,
            10.41,
            5.49,
            9.76,
            9.76,
            6.02,
            8.62,
            8.7,
            10.86,
            5.78,
            8.35,
            7.82,
            9.17,
            8.16,
            8.63,
            9.71,
            8.83,
            10.9,
            8.73,
            10.86,
            5.95,
            6.9,
            6.1,
            10.53,
            11,
            8.47,
            8.57,
            10.68,
            10.04,
            5.7,
            9.94,
            9.68,
            8.43,
            9.07,
            9.3,
            9.29,
            8.61,
            13.86,
            9.94,
            8.93,
            4.18,
            9.1,
            7.87,
            11.31,
            10.27,
            7.26,
            7.84,
            6.8,
            7.15,
            6.39,
            11.35,
            7.96,
            10.34,
            10.62,
            15.43,
            10.83,
            9.66,
            7.95,
            6.59,
            7.26,
            7.93,
            7.52,
            11.01,
            8.42,
            8.48,
            8.84,
            8.55,
            7.09,
            10.2,
            11.94,
            7.36,
            9.63,
            7.7,
            9.64,
            10.28,
            9.51,
            7.79,
            8.69,
            8.81,
            10.28,
            11.24,
            7.38,
            10.02,
            9.47,
            12.28,
            9.82,
            8.69,
            8.89,
            10.93,
            6.71,
            9.38,
            8,
            10.88,
            7,
            8.51,
            6.3,
            10.1,
            10.68,
            7.25,
            10.92,
            7.81,
            7.87,
            8.73,
            6.74,
            9.74,
            10.61,
            9.97,
            7.37,
            8.59,
            10.67,
            6.44,
            7.09,
            10.5,
            10.15,
            11.09,
            7.06,
            8.96,
            7.38,
            8.32,
            8.39,
            11.92,
            6.93,
            7.93,
            9.82,
            5.49,
            7.93,
            7.19,
            9.36,
            10.81,
            15.4,
            10.07,
            10.87,
            9.19,
            7.26,
            7.12,
            10.14,
            11.19,
            7.99,
            8.18,
            8.76,
            8.7,
            8.27,
            8.57,
            10.79,
            8.11,
            7.5,
            11.23,
            8.11,
            7.77,
            9.45,
            8.98,
            13.71,
            6.33,
            9.49,
            10.14,
            15.4,
            8.19,
            10.08,
            11.33,
            9.99,
            8.62,
            11.91,
            8.9,
            8.26,
            9.09,
            10.08,
            6.8,
            10.95,
            8.51,
            7.7,
            9.36,
            9.55,
            9.96,
            8.07,
            6.95,
            6.09,
            5.02,
            13.8,
            11.14,
            5.68,
            9.13,
            15.1,
            8.84,
            7.83,
            10.2,
            6.59,
            7.1,
            10.37,
            7.23,
            8.41,
            12.86,
            5.98,
            7.55,
            9.24,
            5.58,
            6.82,
            6.35,
            5.74,
            10.4,
            7.28,
            9.9,
            8.9,
            9.69,
            8.56,
            10.62,
            12.07,
            6.79,
            7.87,
            8.02,
            12.37,
            9.51,
            8.17,
            8.52,
            8.2,
            7.97,
            5.6,
            7.5,
            6.88,
            8.97,
            10.56,
            7.52,
            9.6,
            7.05,
            5.79,
            8.11,
            10.14,
            5.19,
            10.01,
            6.89,
            9.03,
            9.38,
            9.45,
            5.7,
            7.56,
            7.17,
            9.94,
            6.78,
            8.92,
            7.74,
            9.43,
            9.65,
            7.99,
            9.49,
            7.46,
            9.6,
            8.39,
            7.15,
            7,
            8.23,
            8.81,
            10.88,
            9.4,
            9.36,
            7.84,
            8.85,
            7.95,
            8.39,
            10.51,
            6.06,
            6.03,
            10.3,
            4.52,
            4.83,
            5.51,
            8.16,
            10.19,
            6.08,
            7.14,
            8.61,
            7,
            6.49,
            6.09,
            8.36,
            8.67,
            7.84,
            8.23,
            7.32,
            6,
            7.23,
            7.4,
            7.75,
            3.9,
            7.66,
            7.41,
            9.82,
            9.05,
            8.45,
            5.27,
            10.34,
            9.38,
            10.03,
            6.94,
            6.33,
            7.85,
            8.63,
            8.27,
            8.41,
            8.02,
            6.5,
            9,
            7.6,
            6.63,
            5.96,
            8.29,
            5.4,
            5.23,
            11.07,
            10.02,
            7.86,
            7.52,
            8.33,
            5.95,
            7.9,
            4.8,
            7.61,
            7.56,
            8.29,
            6.49,
            8.95,
            6.68,
            6.57,
            4.55,
            7.41,
            6.43,
            8.18,
            8.37,
            7.52,
            6.15,
            12.8,
            7.01,
            7.18,
            8.7,
            7.91,
            4.31,
            6.7,
            10.36,
            6.71,
            6.23,
            7.49,
            10.19,
            8.45,
            6.8,
            7.56,
            6.91,
            8.32,
            6.92,
            4.38,
            10.25,
            8.77,
            6.95,
            6.6,
            5.62,
            10.57,
            6.17,
            8.5,
            5.95,
            8.22,
            8.41,
            6.93,
            8.37,
            7.55,
            8.8,
            6.06,
            9.6,
            7.1,
            4.32,
            5.35,
            4.97,
            6.5,
            7.16,
            9.77,
            6.83,
            9.17,
            4.72,
            9.41,
            7.48,
            9.28,
            8.8,
            8.15,
            12.41,
            4.01,
            9.06,
            4.93,
            5.63,
            8.29,
            9.77,
            10.03,
            8.03,
            4.95,
            5.3,
            9.05,
            7.68,
            9.97,
            9.27,
            9.42,
            9.25,
            7.16,
            6.55,
            7.68,
            7.29,
            7.22,
            7,
            7.5,
            7.52,
            10.27,
            8.9,
            5.99,
            5.57,
            10.43,
            9.57,
            8.65,
            7.93,
            7.85,
            9.17,
            9.1,
            6.74,
            10.12,
            7.57,
            10.02,
            6.6,
            11.11,
            8.4,
            10.22,
            7.19,
            7.87,
            7.3,
            10.51,
            7.1,
            6.99,
            7.49,
            7.74,
            9.22,
            8.04,
            8.21,
            6.5,
            4.97,
            8.43,
            7.48,
            9.4,
            8.07,
            6.94,
            5.61,
            6.47,
            7.61,
            8.84,
            10.67,
            8.9,
            6.45,
            8.96,
            6.72,
            6.55,
            8.14,
            10.47,
            12.7,
            6.58,
            5.15,
            9.82,
            9.2,
            9.85,
            9.1,
            8.6,
            9.05,
            8.49,
            9.32,
            10.78,
            8.31,
            6.35,
            7.52,
            9.82,
            9,
            6.75,
            9.24,
            9.44,
            6.06,
            7.53,
            11.69,
            7.46,
            8.5,
            11.46
           ]
          },
          {
           "axis": {
            "matches": true
           },
           "label": "CHOL",
           "values": [
            3.23,
            4.8,
            5.2,
            4.74,
            4.32,
            6.05,
            4.79,
            4.6,
            4.1,
            4.45,
            3.57,
            4.3,
            5.38,
            3.38,
            4.97,
            4.43,
            5.22,
            5.51,
            5.5,
            4.05,
            5.59,
            4.62,
            5.06,
            3.62,
            4.56,
            5.59,
            6.79,
            4.03,
            5.07,
            4.6,
            5.94,
            4.2,
            4.99,
            5.73,
            4.63,
            7.04,
            4.33,
            3.8,
            5.9,
            4.69,
            6.23,
            5.44,
            4.27,
            5.07,
            4.06,
            5.63,
            4.89,
            7.35,
            5.81,
            5.62,
            4.38,
            5.29,
            5.1,
            5.3,
            6.8,
            6.17,
            3.97,
            6.42,
            4.12,
            4.63,
            6.59,
            4.36,
            5.05,
            4.93,
            5.4,
            5.1,
            4.26,
            4.88,
            5.9,
            4.02,
            3.87,
            7.01,
            5.88,
            5.74,
            3.91,
            4.14,
            4.74,
            7.51,
            5.46,
            6.05,
            5.24,
            6.26,
            6.26,
            4.66,
            4.64,
            5.55,
            4.85,
            4.41,
            6.85,
            8.89,
            4.78,
            8.11,
            6.09,
            4.49,
            6.02,
            6.29,
            4.91,
            4.74,
            6.85,
            5.09,
            6.23,
            4.13,
            3.29,
            4.55,
            5.56,
            5.9,
            4.23,
            5.57,
            5.88,
            6.28,
            6.15,
            7.3,
            4.78,
            6.76,
            5.62,
            5.07,
            8.6,
            4.96,
            5.3,
            5.92,
            5.27,
            5.368099173553719,
            4.72,
            7.84,
            4.71,
            9.43,
            5.41,
            4.93,
            4.68,
            5.12,
            4.59,
            6.02,
            6.65,
            5.42,
            6.68,
            4.46,
            5.85,
            4.87,
            7.29,
            5.58,
            5.98,
            5.31,
            6.61,
            4.25,
            6.27,
            5.35,
            6.25,
            6.13,
            5.85,
            4.66,
            5.38,
            4.72,
            5.19,
            7.42,
            5.02,
            5.35,
            4.68,
            3.71,
            6.73,
            4.95,
            7.4,
            5.1,
            5.66,
            5.96,
            4.86,
            5.06,
            5.95,
            5.15,
            5.56,
            5.23,
            4.29,
            4.44,
            6.3,
            5.25,
            6.76,
            6.29,
            5.36,
            6.14,
            5.65,
            4.27,
            6.37,
            5.7,
            6.25,
            5.07,
            8.28,
            6.97,
            4.82,
            4.98,
            5.61,
            5.68,
            4.49,
            5.31,
            4.65,
            6.23,
            6.46,
            5.73,
            5.95,
            6.42,
            4.55,
            5.75,
            6.56,
            4.06,
            5.8,
            6.06,
            5.66,
            8.8,
            4.65,
            6.08,
            6.54,
            5.07,
            4.68,
            5.61,
            5.93,
            4.14,
            7.2,
            6.29,
            6.09,
            5.35,
            6.56,
            5,
            4.94,
            5.22,
            4.97,
            6.92,
            6.66,
            4.5,
            7.22,
            4.6,
            5,
            4,
            4.42,
            8.78,
            6.96,
            5.78,
            6.28,
            6.24,
            5.2,
            6.24,
            5.98,
            7.43,
            5.79,
            7.29,
            7.3,
            7.73,
            5.73,
            4.55,
            6.33,
            4.63,
            4.39,
            4.61,
            5.22,
            6.75,
            6.61,
            5.37,
            5.3,
            6.4,
            4.93,
            4.69,
            6.04,
            3.97,
            5.99,
            4.91,
            5.31,
            6.33,
            5.07,
            5.7,
            6.41,
            4.46,
            4.86,
            3.09,
            3.69,
            6.89,
            4.33,
            5.47,
            5.07,
            5.6,
            6.2,
            5.42,
            5.31,
            4.65,
            6.01,
            4.95,
            4.58,
            7.62,
            5.42,
            5.23,
            5.25,
            5.52,
            3.81,
            5.74,
            6.18,
            4.69,
            6.35,
            6.69,
            6.37,
            6.47,
            7.7,
            5.84,
            4.03,
            5.91,
            6.31,
            6.23,
            4.69,
            4.17,
            5.48,
            6.8,
            6.66,
            7.02,
            6.43,
            5.53,
            6.64,
            4.15,
            3.96,
            4.74,
            6.31,
            2.79,
            5.56,
            4.41,
            4.37,
            5.368099173553719,
            3.75,
            4.38,
            5.26,
            5.02,
            3.34,
            5.22,
            4.93,
            5.69,
            5.57,
            5.368099173553719,
            4.25,
            4.48,
            3.92,
            3.22,
            6.36,
            4.94,
            4.61,
            5.17,
            5.59,
            6.28,
            5.1,
            4.68,
            5.9,
            4.13,
            5.07,
            4.69,
            4.62,
            4.43,
            4.91,
            5.7,
            4.79,
            5.73,
            5.62,
            4.18,
            5.51,
            5.05,
            5.8,
            4.36,
            3.95,
            5.52,
            6.06,
            3.97,
            3.61,
            5.73,
            4.58,
            5.3,
            4.55,
            5.32,
            4.57,
            6.74,
            5.25,
            4.92,
            6.01,
            4.24,
            4.33,
            5.18,
            5.02,
            4.43,
            4.87,
            4.49,
            6.05,
            5.44,
            9.03,
            4.94,
            5.55,
            6.08,
            5.37,
            3.96,
            4.45,
            6.68,
            5.29,
            4.72,
            5.04,
            6.13,
            5.9,
            4.27,
            4.43,
            5.42,
            5.38,
            5.48,
            5.05,
            4.56,
            2.86,
            5.29,
            4.73,
            6.42,
            5.88,
            4.07,
            5.85,
            6.94,
            5.19,
            6.03,
            5.11,
            5.368099173553719,
            4.42,
            7.09,
            5.3,
            4.83,
            5.62,
            5.59,
            4.6,
            5.47,
            5.1,
            4.55,
            5.368099173553719,
            4.35,
            6.66,
            5.23,
            5.84,
            4.64,
            4.68,
            6.14,
            5.38,
            5.368099173553719,
            5.58,
            6.78,
            4.05,
            5.31,
            7.11,
            5.99,
            8.36,
            4.58,
            5.1,
            5.88,
            6.81,
            5.91,
            7.01,
            6.41,
            6.33,
            7.41,
            6.54,
            5.95,
            4.73,
            5.26,
            5.43,
            6.97,
            4.94,
            6.76,
            6.24,
            6.56,
            3.25,
            4.96,
            6.59,
            6.04,
            6.04,
            5.41,
            5.69,
            4.33,
            7.04,
            5.9,
            6.98,
            7.8,
            6.17,
            4.26,
            6.38,
            5.16,
            6.65,
            6.97,
            5.48,
            4.82,
            6.03,
            5.62,
            4.95,
            4.91,
            5.55,
            5.47,
            6.77,
            5.05,
            5.86,
            4.43,
            7.67,
            5.88,
            6.02,
            5.45,
            5.5,
            3.87,
            5.1,
            6.06,
            5.368099173553719,
            8.46,
            5.93,
            5.1,
            6.66,
            5.06,
            7.08,
            6.9,
            4.9,
            6.25,
            5.51,
            3.53,
            6.71,
            7.43,
            7.32,
            6.38,
            4.9,
            4.56,
            5,
            6.94,
            6.79,
            5.34,
            6.55,
            5.81,
            7.12,
            7.45,
            4.59,
            6.08,
            6.88,
            3.96,
            7.58,
            6,
            5.76,
            6.79,
            5.08
           ]
          }
         ],
         "hovertemplate": "Category=0=Blood Donor<br>%{xaxis.title.text}=%{x}<br>%{yaxis.title.text}=%{y}<extra></extra>",
         "legendgroup": "0=Blood Donor",
         "marker": {
          "color": "#636efa",
          "symbol": "circle"
         },
         "name": "0=Blood Donor",
         "showlegend": true,
         "type": "splom"
        },
        {
         "dimensions": [
          {
           "axis": {
            "matches": true
           },
           "label": "CHE",
           "values": [
            6.83,
            3.44,
            3.75,
            14.8,
            13.3,
            4.91,
            5.33
           ]
          },
          {
           "axis": {
            "matches": true
           },
           "label": "CHOL",
           "values": [
            4.3,
            5.25,
            3.01,
            8.08,
            2.61,
            3.19,
            4.72
           ]
          }
         ],
         "hovertemplate": "Category=0s=suspect Blood Donor<br>%{xaxis.title.text}=%{x}<br>%{yaxis.title.text}=%{y}<extra></extra>",
         "legendgroup": "0s=suspect Blood Donor",
         "marker": {
          "color": "#EF553B",
          "symbol": "circle"
         },
         "name": "0s=suspect Blood Donor",
         "showlegend": true,
         "type": "splom"
        },
        {
         "dimensions": [
          {
           "axis": {
            "matches": true
           },
           "label": "CHE",
           "values": [
            9.58,
            7.55,
            7.09,
            6,
            8.77,
            8.79,
            12.16,
            10.11,
            13.8,
            9.71,
            10.3,
            11.42,
            10.23,
            9.67,
            8.91,
            16.41,
            9.54,
            10.12,
            5.75,
            5.95,
            6.88,
            7.08,
            7.51,
            9.48
           ]
          },
          {
           "axis": {
            "matches": true
           },
           "label": "CHOL",
           "values": [
            6,
            3.9,
            3.2,
            4.28,
            3.2,
            3.6,
            6.1,
            6.28,
            5.48,
            5.37,
            4.14,
            5.73,
            4.89,
            9.67,
            4.07,
            4.65,
            7.04,
            5.23,
            3.09,
            6.15,
            5.72,
            5.3,
            4.67,
            4.62
           ]
          }
         ],
         "hovertemplate": "Category=1=Hepatitis<br>%{xaxis.title.text}=%{x}<br>%{yaxis.title.text}=%{y}<extra></extra>",
         "legendgroup": "1=Hepatitis",
         "marker": {
          "color": "#00cc96",
          "symbol": "circle"
         },
         "name": "1=Hepatitis",
         "showlegend": true,
         "type": "splom"
        },
        {
         "dimensions": [
          {
           "axis": {
            "matches": true
           },
           "label": "CHE",
           "values": [
            11.49,
            9.64,
            6.97,
            7.76,
            7.28,
            10.43,
            8.74,
            8.77,
            8.59,
            6.6,
            9.45,
            7.1,
            9.92,
            9.24,
            8.55,
            8.61,
            7.29,
            10.21,
            3.99,
            7.75,
            6.65
           ]
          },
          {
           "axis": {
            "matches": true
           },
           "label": "CHOL",
           "values": [
            5.42,
            4.2,
            4.01,
            4.22,
            3.5,
            5.2,
            4.7,
            4,
            5.85,
            4.64,
            4.45,
            4.52,
            4.7,
            4.81,
            4.31,
            6.19,
            4.89,
            3.1,
            4.2,
            5,
            5.368099173553719
           ]
          }
         ],
         "hovertemplate": "Category=2=Fibrosis<br>%{xaxis.title.text}=%{x}<br>%{yaxis.title.text}=%{y}<extra></extra>",
         "legendgroup": "2=Fibrosis",
         "marker": {
          "color": "#ab63fa",
          "symbol": "circle"
         },
         "name": "2=Fibrosis",
         "showlegend": true,
         "type": "splom"
        },
        {
         "dimensions": [
          {
           "axis": {
            "matches": true
           },
           "label": "CHE",
           "values": [
            4.37,
            3.65,
            1.8,
            3.61,
            1.73,
            1.48,
            7.1,
            6.29,
            2,
            4.02,
            1.42,
            1.8,
            1.88,
            3.29,
            2.29,
            2.47,
            1.57,
            5.38,
            7.5,
            2.5,
            1.72,
            6.92,
            6.33,
            6.26,
            5.77,
            5.57,
            1.54,
            1.66,
            3.56,
            9.07
           ]
          },
          {
           "axis": {
            "matches": true
           },
           "label": "CHOL",
           "values": [
            3.2,
            4.82,
            5.34,
            3.93,
            3.71,
            5.368099173553719,
            4.1,
            5.5,
            3.6,
            4.08,
            3.54,
            2.4,
            1.43,
            3.92,
            3.68,
            3.61,
            3.51,
            4.88,
            5.368099173553719,
            3.29,
            5.16,
            3.82,
            3.78,
            3.98,
            4.51,
            6.3,
            3.02,
            3.63,
            4.2,
            5.3
           ]
          }
         ],
         "hovertemplate": "Category=3=Cirrhosis<br>%{xaxis.title.text}=%{x}<br>%{yaxis.title.text}=%{y}<extra></extra>",
         "legendgroup": "3=Cirrhosis",
         "marker": {
          "color": "#FFA15A",
          "symbol": "circle"
         },
         "name": "3=Cirrhosis",
         "showlegend": true,
         "type": "splom"
        }
       ],
       "layout": {
        "dragmode": "select",
        "legend": {
         "title": {
          "text": "Category"
         },
         "tracegroupgap": 0
        },
        "margin": {
         "t": 60
        },
        "template": {
         "data": {
          "bar": [
           {
            "error_x": {
             "color": "#2a3f5f"
            },
            "error_y": {
             "color": "#2a3f5f"
            },
            "marker": {
             "line": {
              "color": "#E5ECF6",
              "width": 0.5
             },
             "pattern": {
              "fillmode": "overlay",
              "size": 10,
              "solidity": 0.2
             }
            },
            "type": "bar"
           }
          ],
          "barpolar": [
           {
            "marker": {
             "line": {
              "color": "#E5ECF6",
              "width": 0.5
             },
             "pattern": {
              "fillmode": "overlay",
              "size": 10,
              "solidity": 0.2
             }
            },
            "type": "barpolar"
           }
          ],
          "carpet": [
           {
            "aaxis": {
             "endlinecolor": "#2a3f5f",
             "gridcolor": "white",
             "linecolor": "white",
             "minorgridcolor": "white",
             "startlinecolor": "#2a3f5f"
            },
            "baxis": {
             "endlinecolor": "#2a3f5f",
             "gridcolor": "white",
             "linecolor": "white",
             "minorgridcolor": "white",
             "startlinecolor": "#2a3f5f"
            },
            "type": "carpet"
           }
          ],
          "choropleth": [
           {
            "colorbar": {
             "outlinewidth": 0,
             "ticks": ""
            },
            "type": "choropleth"
           }
          ],
          "contour": [
           {
            "colorbar": {
             "outlinewidth": 0,
             "ticks": ""
            },
            "colorscale": [
             [
              0,
              "#0d0887"
             ],
             [
              0.1111111111111111,
              "#46039f"
             ],
             [
              0.2222222222222222,
              "#7201a8"
             ],
             [
              0.3333333333333333,
              "#9c179e"
             ],
             [
              0.4444444444444444,
              "#bd3786"
             ],
             [
              0.5555555555555556,
              "#d8576b"
             ],
             [
              0.6666666666666666,
              "#ed7953"
             ],
             [
              0.7777777777777778,
              "#fb9f3a"
             ],
             [
              0.8888888888888888,
              "#fdca26"
             ],
             [
              1,
              "#f0f921"
             ]
            ],
            "type": "contour"
           }
          ],
          "contourcarpet": [
           {
            "colorbar": {
             "outlinewidth": 0,
             "ticks": ""
            },
            "type": "contourcarpet"
           }
          ],
          "heatmap": [
           {
            "colorbar": {
             "outlinewidth": 0,
             "ticks": ""
            },
            "colorscale": [
             [
              0,
              "#0d0887"
             ],
             [
              0.1111111111111111,
              "#46039f"
             ],
             [
              0.2222222222222222,
              "#7201a8"
             ],
             [
              0.3333333333333333,
              "#9c179e"
             ],
             [
              0.4444444444444444,
              "#bd3786"
             ],
             [
              0.5555555555555556,
              "#d8576b"
             ],
             [
              0.6666666666666666,
              "#ed7953"
             ],
             [
              0.7777777777777778,
              "#fb9f3a"
             ],
             [
              0.8888888888888888,
              "#fdca26"
             ],
             [
              1,
              "#f0f921"
             ]
            ],
            "type": "heatmap"
           }
          ],
          "heatmapgl": [
           {
            "colorbar": {
             "outlinewidth": 0,
             "ticks": ""
            },
            "colorscale": [
             [
              0,
              "#0d0887"
             ],
             [
              0.1111111111111111,
              "#46039f"
             ],
             [
              0.2222222222222222,
              "#7201a8"
             ],
             [
              0.3333333333333333,
              "#9c179e"
             ],
             [
              0.4444444444444444,
              "#bd3786"
             ],
             [
              0.5555555555555556,
              "#d8576b"
             ],
             [
              0.6666666666666666,
              "#ed7953"
             ],
             [
              0.7777777777777778,
              "#fb9f3a"
             ],
             [
              0.8888888888888888,
              "#fdca26"
             ],
             [
              1,
              "#f0f921"
             ]
            ],
            "type": "heatmapgl"
           }
          ],
          "histogram": [
           {
            "marker": {
             "pattern": {
              "fillmode": "overlay",
              "size": 10,
              "solidity": 0.2
             }
            },
            "type": "histogram"
           }
          ],
          "histogram2d": [
           {
            "colorbar": {
             "outlinewidth": 0,
             "ticks": ""
            },
            "colorscale": [
             [
              0,
              "#0d0887"
             ],
             [
              0.1111111111111111,
              "#46039f"
             ],
             [
              0.2222222222222222,
              "#7201a8"
             ],
             [
              0.3333333333333333,
              "#9c179e"
             ],
             [
              0.4444444444444444,
              "#bd3786"
             ],
             [
              0.5555555555555556,
              "#d8576b"
             ],
             [
              0.6666666666666666,
              "#ed7953"
             ],
             [
              0.7777777777777778,
              "#fb9f3a"
             ],
             [
              0.8888888888888888,
              "#fdca26"
             ],
             [
              1,
              "#f0f921"
             ]
            ],
            "type": "histogram2d"
           }
          ],
          "histogram2dcontour": [
           {
            "colorbar": {
             "outlinewidth": 0,
             "ticks": ""
            },
            "colorscale": [
             [
              0,
              "#0d0887"
             ],
             [
              0.1111111111111111,
              "#46039f"
             ],
             [
              0.2222222222222222,
              "#7201a8"
             ],
             [
              0.3333333333333333,
              "#9c179e"
             ],
             [
              0.4444444444444444,
              "#bd3786"
             ],
             [
              0.5555555555555556,
              "#d8576b"
             ],
             [
              0.6666666666666666,
              "#ed7953"
             ],
             [
              0.7777777777777778,
              "#fb9f3a"
             ],
             [
              0.8888888888888888,
              "#fdca26"
             ],
             [
              1,
              "#f0f921"
             ]
            ],
            "type": "histogram2dcontour"
           }
          ],
          "mesh3d": [
           {
            "colorbar": {
             "outlinewidth": 0,
             "ticks": ""
            },
            "type": "mesh3d"
           }
          ],
          "parcoords": [
           {
            "line": {
             "colorbar": {
              "outlinewidth": 0,
              "ticks": ""
             }
            },
            "type": "parcoords"
           }
          ],
          "pie": [
           {
            "automargin": true,
            "type": "pie"
           }
          ],
          "scatter": [
           {
            "fillpattern": {
             "fillmode": "overlay",
             "size": 10,
             "solidity": 0.2
            },
            "type": "scatter"
           }
          ],
          "scatter3d": [
           {
            "line": {
             "colorbar": {
              "outlinewidth": 0,
              "ticks": ""
             }
            },
            "marker": {
             "colorbar": {
              "outlinewidth": 0,
              "ticks": ""
             }
            },
            "type": "scatter3d"
           }
          ],
          "scattercarpet": [
           {
            "marker": {
             "colorbar": {
              "outlinewidth": 0,
              "ticks": ""
             }
            },
            "type": "scattercarpet"
           }
          ],
          "scattergeo": [
           {
            "marker": {
             "colorbar": {
              "outlinewidth": 0,
              "ticks": ""
             }
            },
            "type": "scattergeo"
           }
          ],
          "scattergl": [
           {
            "marker": {
             "colorbar": {
              "outlinewidth": 0,
              "ticks": ""
             }
            },
            "type": "scattergl"
           }
          ],
          "scattermapbox": [
           {
            "marker": {
             "colorbar": {
              "outlinewidth": 0,
              "ticks": ""
             }
            },
            "type": "scattermapbox"
           }
          ],
          "scatterpolar": [
           {
            "marker": {
             "colorbar": {
              "outlinewidth": 0,
              "ticks": ""
             }
            },
            "type": "scatterpolar"
           }
          ],
          "scatterpolargl": [
           {
            "marker": {
             "colorbar": {
              "outlinewidth": 0,
              "ticks": ""
             }
            },
            "type": "scatterpolargl"
           }
          ],
          "scatterternary": [
           {
            "marker": {
             "colorbar": {
              "outlinewidth": 0,
              "ticks": ""
             }
            },
            "type": "scatterternary"
           }
          ],
          "surface": [
           {
            "colorbar": {
             "outlinewidth": 0,
             "ticks": ""
            },
            "colorscale": [
             [
              0,
              "#0d0887"
             ],
             [
              0.1111111111111111,
              "#46039f"
             ],
             [
              0.2222222222222222,
              "#7201a8"
             ],
             [
              0.3333333333333333,
              "#9c179e"
             ],
             [
              0.4444444444444444,
              "#bd3786"
             ],
             [
              0.5555555555555556,
              "#d8576b"
             ],
             [
              0.6666666666666666,
              "#ed7953"
             ],
             [
              0.7777777777777778,
              "#fb9f3a"
             ],
             [
              0.8888888888888888,
              "#fdca26"
             ],
             [
              1,
              "#f0f921"
             ]
            ],
            "type": "surface"
           }
          ],
          "table": [
           {
            "cells": {
             "fill": {
              "color": "#EBF0F8"
             },
             "line": {
              "color": "white"
             }
            },
            "header": {
             "fill": {
              "color": "#C8D4E3"
             },
             "line": {
              "color": "white"
             }
            },
            "type": "table"
           }
          ]
         },
         "layout": {
          "annotationdefaults": {
           "arrowcolor": "#2a3f5f",
           "arrowhead": 0,
           "arrowwidth": 1
          },
          "autotypenumbers": "strict",
          "coloraxis": {
           "colorbar": {
            "outlinewidth": 0,
            "ticks": ""
           }
          },
          "colorscale": {
           "diverging": [
            [
             0,
             "#8e0152"
            ],
            [
             0.1,
             "#c51b7d"
            ],
            [
             0.2,
             "#de77ae"
            ],
            [
             0.3,
             "#f1b6da"
            ],
            [
             0.4,
             "#fde0ef"
            ],
            [
             0.5,
             "#f7f7f7"
            ],
            [
             0.6,
             "#e6f5d0"
            ],
            [
             0.7,
             "#b8e186"
            ],
            [
             0.8,
             "#7fbc41"
            ],
            [
             0.9,
             "#4d9221"
            ],
            [
             1,
             "#276419"
            ]
           ],
           "sequential": [
            [
             0,
             "#0d0887"
            ],
            [
             0.1111111111111111,
             "#46039f"
            ],
            [
             0.2222222222222222,
             "#7201a8"
            ],
            [
             0.3333333333333333,
             "#9c179e"
            ],
            [
             0.4444444444444444,
             "#bd3786"
            ],
            [
             0.5555555555555556,
             "#d8576b"
            ],
            [
             0.6666666666666666,
             "#ed7953"
            ],
            [
             0.7777777777777778,
             "#fb9f3a"
            ],
            [
             0.8888888888888888,
             "#fdca26"
            ],
            [
             1,
             "#f0f921"
            ]
           ],
           "sequentialminus": [
            [
             0,
             "#0d0887"
            ],
            [
             0.1111111111111111,
             "#46039f"
            ],
            [
             0.2222222222222222,
             "#7201a8"
            ],
            [
             0.3333333333333333,
             "#9c179e"
            ],
            [
             0.4444444444444444,
             "#bd3786"
            ],
            [
             0.5555555555555556,
             "#d8576b"
            ],
            [
             0.6666666666666666,
             "#ed7953"
            ],
            [
             0.7777777777777778,
             "#fb9f3a"
            ],
            [
             0.8888888888888888,
             "#fdca26"
            ],
            [
             1,
             "#f0f921"
            ]
           ]
          },
          "colorway": [
           "#636efa",
           "#EF553B",
           "#00cc96",
           "#ab63fa",
           "#FFA15A",
           "#19d3f3",
           "#FF6692",
           "#B6E880",
           "#FF97FF",
           "#FECB52"
          ],
          "font": {
           "color": "#2a3f5f"
          },
          "geo": {
           "bgcolor": "white",
           "lakecolor": "white",
           "landcolor": "#E5ECF6",
           "showlakes": true,
           "showland": true,
           "subunitcolor": "white"
          },
          "hoverlabel": {
           "align": "left"
          },
          "hovermode": "closest",
          "mapbox": {
           "style": "light"
          },
          "paper_bgcolor": "white",
          "plot_bgcolor": "#E5ECF6",
          "polar": {
           "angularaxis": {
            "gridcolor": "white",
            "linecolor": "white",
            "ticks": ""
           },
           "bgcolor": "#E5ECF6",
           "radialaxis": {
            "gridcolor": "white",
            "linecolor": "white",
            "ticks": ""
           }
          },
          "scene": {
           "xaxis": {
            "backgroundcolor": "#E5ECF6",
            "gridcolor": "white",
            "gridwidth": 2,
            "linecolor": "white",
            "showbackground": true,
            "ticks": "",
            "zerolinecolor": "white"
           },
           "yaxis": {
            "backgroundcolor": "#E5ECF6",
            "gridcolor": "white",
            "gridwidth": 2,
            "linecolor": "white",
            "showbackground": true,
            "ticks": "",
            "zerolinecolor": "white"
           },
           "zaxis": {
            "backgroundcolor": "#E5ECF6",
            "gridcolor": "white",
            "gridwidth": 2,
            "linecolor": "white",
            "showbackground": true,
            "ticks": "",
            "zerolinecolor": "white"
           }
          },
          "shapedefaults": {
           "line": {
            "color": "#2a3f5f"
           }
          },
          "ternary": {
           "aaxis": {
            "gridcolor": "white",
            "linecolor": "white",
            "ticks": ""
           },
           "baxis": {
            "gridcolor": "white",
            "linecolor": "white",
            "ticks": ""
           },
           "bgcolor": "#E5ECF6",
           "caxis": {
            "gridcolor": "white",
            "linecolor": "white",
            "ticks": ""
           }
          },
          "title": {
           "x": 0.05
          },
          "xaxis": {
           "automargin": true,
           "gridcolor": "white",
           "linecolor": "white",
           "ticks": "",
           "title": {
            "standoff": 15
           },
           "zerolinecolor": "white",
           "zerolinewidth": 2
          },
          "yaxis": {
           "automargin": true,
           "gridcolor": "white",
           "linecolor": "white",
           "ticks": "",
           "title": {
            "standoff": 15
           },
           "zerolinecolor": "white",
           "zerolinewidth": 2
          }
         }
        }
       }
      }
     },
     "metadata": {},
     "output_type": "display_data"
    }
   ],
   "source": [
    "fig = px.scatter_matrix(data, dimensions=['CHE', 'CHOL'], color='Category')\n",
    "fig.show()"
   ]
  },
  {
   "cell_type": "markdown",
   "metadata": {},
   "source": [
    "# Build a K-means Model"
   ]
  },
  {
   "cell_type": "code",
   "execution_count": 12,
   "metadata": {},
   "outputs": [],
   "source": [
    "y = data.Category \n",
    "le = LabelEncoder()\n",
    "\n",
    "true_labels = le.fit_transform(y)\n",
    "data = pd.get_dummies(data,dtype=float)\n",
    "# data\n"
   ]
  },
  {
   "cell_type": "code",
   "execution_count": 13,
   "metadata": {},
   "outputs": [],
   "source": [
    "le.classes_ \n",
    "\n",
    "n_clusters = len(le.classes_)\n",
    "\n",
    "preprocessor = Pipeline([ \n",
    "    ('scaler', MinMaxScaler()),\n",
    "    ('pca',PCA(n_components=2,random_state=42))\n",
    "])"
   ]
  },
  {
   "cell_type": "code",
   "execution_count": 14,
   "metadata": {},
   "outputs": [
    {
     "data": {
      "text/html": [
       "<style>#sk-container-id-1 {color: black;background-color: white;}#sk-container-id-1 pre{padding: 0;}#sk-container-id-1 div.sk-toggleable {background-color: white;}#sk-container-id-1 label.sk-toggleable__label {cursor: pointer;display: block;width: 100%;margin-bottom: 0;padding: 0.3em;box-sizing: border-box;text-align: center;}#sk-container-id-1 label.sk-toggleable__label-arrow:before {content: \"▸\";float: left;margin-right: 0.25em;color: #696969;}#sk-container-id-1 label.sk-toggleable__label-arrow:hover:before {color: black;}#sk-container-id-1 div.sk-estimator:hover label.sk-toggleable__label-arrow:before {color: black;}#sk-container-id-1 div.sk-toggleable__content {max-height: 0;max-width: 0;overflow: hidden;text-align: left;background-color: #f0f8ff;}#sk-container-id-1 div.sk-toggleable__content pre {margin: 0.2em;color: black;border-radius: 0.25em;background-color: #f0f8ff;}#sk-container-id-1 input.sk-toggleable__control:checked~div.sk-toggleable__content {max-height: 200px;max-width: 100%;overflow: auto;}#sk-container-id-1 input.sk-toggleable__control:checked~label.sk-toggleable__label-arrow:before {content: \"▾\";}#sk-container-id-1 div.sk-estimator input.sk-toggleable__control:checked~label.sk-toggleable__label {background-color: #d4ebff;}#sk-container-id-1 div.sk-label input.sk-toggleable__control:checked~label.sk-toggleable__label {background-color: #d4ebff;}#sk-container-id-1 input.sk-hidden--visually {border: 0;clip: rect(1px 1px 1px 1px);clip: rect(1px, 1px, 1px, 1px);height: 1px;margin: -1px;overflow: hidden;padding: 0;position: absolute;width: 1px;}#sk-container-id-1 div.sk-estimator {font-family: monospace;background-color: #f0f8ff;border: 1px dotted black;border-radius: 0.25em;box-sizing: border-box;margin-bottom: 0.5em;}#sk-container-id-1 div.sk-estimator:hover {background-color: #d4ebff;}#sk-container-id-1 div.sk-parallel-item::after {content: \"\";width: 100%;border-bottom: 1px solid gray;flex-grow: 1;}#sk-container-id-1 div.sk-label:hover label.sk-toggleable__label {background-color: #d4ebff;}#sk-container-id-1 div.sk-serial::before {content: \"\";position: absolute;border-left: 1px solid gray;box-sizing: border-box;top: 0;bottom: 0;left: 50%;z-index: 0;}#sk-container-id-1 div.sk-serial {display: flex;flex-direction: column;align-items: center;background-color: white;padding-right: 0.2em;padding-left: 0.2em;position: relative;}#sk-container-id-1 div.sk-item {position: relative;z-index: 1;}#sk-container-id-1 div.sk-parallel {display: flex;align-items: stretch;justify-content: center;background-color: white;position: relative;}#sk-container-id-1 div.sk-item::before, #sk-container-id-1 div.sk-parallel-item::before {content: \"\";position: absolute;border-left: 1px solid gray;box-sizing: border-box;top: 0;bottom: 0;left: 50%;z-index: -1;}#sk-container-id-1 div.sk-parallel-item {display: flex;flex-direction: column;z-index: 1;position: relative;background-color: white;}#sk-container-id-1 div.sk-parallel-item:first-child::after {align-self: flex-end;width: 50%;}#sk-container-id-1 div.sk-parallel-item:last-child::after {align-self: flex-start;width: 50%;}#sk-container-id-1 div.sk-parallel-item:only-child::after {width: 0;}#sk-container-id-1 div.sk-dashed-wrapped {border: 1px dashed gray;margin: 0 0.4em 0.5em 0.4em;box-sizing: border-box;padding-bottom: 0.4em;background-color: white;}#sk-container-id-1 div.sk-label label {font-family: monospace;font-weight: bold;display: inline-block;line-height: 1.2em;}#sk-container-id-1 div.sk-label-container {text-align: center;}#sk-container-id-1 div.sk-container {/* jupyter's `normalize.less` sets `[hidden] { display: none; }` but bootstrap.min.css set `[hidden] { display: none !important; }` so we also need the `!important` here to be able to override the default hidden behavior on the sphinx rendered scikit-learn.org. See: https://github.com/scikit-learn/scikit-learn/issues/21755 */display: inline-block !important;position: relative;}#sk-container-id-1 div.sk-text-repr-fallback {display: none;}</style><div id=\"sk-container-id-1\" class=\"sk-top-container\"><div class=\"sk-text-repr-fallback\"><pre>Pipeline(steps=[(&#x27;preprocessor&#x27;,\n",
       "                 Pipeline(steps=[(&#x27;scaler&#x27;, MinMaxScaler()),\n",
       "                                 (&#x27;pca&#x27;,\n",
       "                                  PCA(n_components=2, random_state=42))])),\n",
       "                (&#x27;clusterer&#x27;,\n",
       "                 Pipeline(steps=[(&#x27;kmeans&#x27;,\n",
       "                                  KMeans(max_iter=500, n_clusters=5, n_init=50,\n",
       "                                         random_state=42))]))])</pre><b>In a Jupyter environment, please rerun this cell to show the HTML representation or trust the notebook. <br />On GitHub, the HTML representation is unable to render, please try loading this page with nbviewer.org.</b></div><div class=\"sk-container\" hidden><div class=\"sk-item sk-dashed-wrapped\"><div class=\"sk-label-container\"><div class=\"sk-label sk-toggleable\"><input class=\"sk-toggleable__control sk-hidden--visually\" id=\"sk-estimator-id-1\" type=\"checkbox\" ><label for=\"sk-estimator-id-1\" class=\"sk-toggleable__label sk-toggleable__label-arrow\">Pipeline</label><div class=\"sk-toggleable__content\"><pre>Pipeline(steps=[(&#x27;preprocessor&#x27;,\n",
       "                 Pipeline(steps=[(&#x27;scaler&#x27;, MinMaxScaler()),\n",
       "                                 (&#x27;pca&#x27;,\n",
       "                                  PCA(n_components=2, random_state=42))])),\n",
       "                (&#x27;clusterer&#x27;,\n",
       "                 Pipeline(steps=[(&#x27;kmeans&#x27;,\n",
       "                                  KMeans(max_iter=500, n_clusters=5, n_init=50,\n",
       "                                         random_state=42))]))])</pre></div></div></div><div class=\"sk-serial\"><div class=\"sk-item\"><div class=\"sk-label-container\"><div class=\"sk-label sk-toggleable\"><input class=\"sk-toggleable__control sk-hidden--visually\" id=\"sk-estimator-id-2\" type=\"checkbox\" ><label for=\"sk-estimator-id-2\" class=\"sk-toggleable__label sk-toggleable__label-arrow\">preprocessor: Pipeline</label><div class=\"sk-toggleable__content\"><pre>Pipeline(steps=[(&#x27;scaler&#x27;, MinMaxScaler()),\n",
       "                (&#x27;pca&#x27;, PCA(n_components=2, random_state=42))])</pre></div></div></div><div class=\"sk-serial\"><div class=\"sk-item\"><div class=\"sk-estimator sk-toggleable\"><input class=\"sk-toggleable__control sk-hidden--visually\" id=\"sk-estimator-id-3\" type=\"checkbox\" ><label for=\"sk-estimator-id-3\" class=\"sk-toggleable__label sk-toggleable__label-arrow\">MinMaxScaler</label><div class=\"sk-toggleable__content\"><pre>MinMaxScaler()</pre></div></div></div><div class=\"sk-item\"><div class=\"sk-estimator sk-toggleable\"><input class=\"sk-toggleable__control sk-hidden--visually\" id=\"sk-estimator-id-4\" type=\"checkbox\" ><label for=\"sk-estimator-id-4\" class=\"sk-toggleable__label sk-toggleable__label-arrow\">PCA</label><div class=\"sk-toggleable__content\"><pre>PCA(n_components=2, random_state=42)</pre></div></div></div></div></div><div class=\"sk-item\"><div class=\"sk-label-container\"><div class=\"sk-label sk-toggleable\"><input class=\"sk-toggleable__control sk-hidden--visually\" id=\"sk-estimator-id-5\" type=\"checkbox\" ><label for=\"sk-estimator-id-5\" class=\"sk-toggleable__label sk-toggleable__label-arrow\">clusterer: Pipeline</label><div class=\"sk-toggleable__content\"><pre>Pipeline(steps=[(&#x27;kmeans&#x27;,\n",
       "                 KMeans(max_iter=500, n_clusters=5, n_init=50,\n",
       "                        random_state=42))])</pre></div></div></div><div class=\"sk-serial\"><div class=\"sk-item\"><div class=\"sk-estimator sk-toggleable\"><input class=\"sk-toggleable__control sk-hidden--visually\" id=\"sk-estimator-id-6\" type=\"checkbox\" ><label for=\"sk-estimator-id-6\" class=\"sk-toggleable__label sk-toggleable__label-arrow\">KMeans</label><div class=\"sk-toggleable__content\"><pre>KMeans(max_iter=500, n_clusters=5, n_init=50, random_state=42)</pre></div></div></div></div></div></div></div></div></div>"
      ],
      "text/plain": [
       "Pipeline(steps=[('preprocessor',\n",
       "                 Pipeline(steps=[('scaler', MinMaxScaler()),\n",
       "                                 ('pca',\n",
       "                                  PCA(n_components=2, random_state=42))])),\n",
       "                ('clusterer',\n",
       "                 Pipeline(steps=[('kmeans',\n",
       "                                  KMeans(max_iter=500, n_clusters=5, n_init=50,\n",
       "                                         random_state=42))]))])"
      ]
     },
     "execution_count": 14,
     "metadata": {},
     "output_type": "execute_result"
    }
   ],
   "source": [
    "clusterer = Pipeline( \n",
    "    [ \n",
    "        ( \n",
    "            'kmeans',\n",
    "            KMeans( \n",
    "                n_clusters=n_clusters, \n",
    "                init = 'k-means++',\n",
    "                n_init = 50,\n",
    "                max_iter = 500,\n",
    "                random_state=42,\n",
    "            )\n",
    "        )\n",
    "    ]\n",
    ")\n",
    "\n",
    "pipe = Pipeline( \n",
    "    [ \n",
    "        ('preprocessor',preprocessor),\n",
    "        ('clusterer',clusterer)\n",
    "    ]\n",
    ")\n",
    "\n",
    "pipe.fit(data)"
   ]
  }
 ],
 "metadata": {
  "kernelspec": {
   "display_name": "Python 3.10.5 64-bit",
   "language": "python",
   "name": "python3"
  },
  "language_info": {
   "codemirror_mode": {
    "name": "ipython",
    "version": 3
   },
   "file_extension": ".py",
   "mimetype": "text/x-python",
   "name": "python",
   "nbconvert_exporter": "python",
   "pygments_lexer": "ipython3",
   "version": "3.10.5"
  },
  "orig_nbformat": 4,
  "vscode": {
   "interpreter": {
    "hash": "d8648c7b4c41d7b1ba15281cf9494171032f5d76df8e8415c1b8fb59c6c5a947"
   }
  }
 },
 "nbformat": 4,
 "nbformat_minor": 2
}
