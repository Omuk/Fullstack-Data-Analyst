{
 "cells": [
  {
   "cell_type": "markdown",
   "metadata": {},
   "source": [
    "Understanding the distribution of COVID-Relief funds in San Diego and predicting impact of future distribution in minority communities"
   ]
  },
  {
   "cell_type": "markdown",
   "metadata": {},
   "source": [
    "Import Necessary library"
   ]
  },
  {
   "cell_type": "code",
   "execution_count": 1,
   "metadata": {},
   "outputs": [],
   "source": [
    "import pandas as pd \n",
    "import numpy as np \n",
    "import seaborn as sns\n",
    "sns.set(style='white', palette='muted', color_codes=True)\n",
    "import plotly.express as px \n",
    "import io \n",
    "import matplotlib.pyplot as plt\n",
    "plt.style.use('ggplot')\n"
   ]
  },
  {
   "cell_type": "markdown",
   "metadata": {},
   "source": [
    "Import the file"
   ]
  },
  {
   "cell_type": "code",
   "execution_count": 2,
   "metadata": {},
   "outputs": [],
   "source": [
    "data = pd.read_csv(r'C:\\Data-Analysis\\Provider\\HHS_San_Diego.csv')"
   ]
  },
  {
   "cell_type": "code",
   "execution_count": 3,
   "metadata": {},
   "outputs": [
    {
     "data": {
      "text/html": [
       "<div>\n",
       "<style scoped>\n",
       "    .dataframe tbody tr th:only-of-type {\n",
       "        vertical-align: middle;\n",
       "    }\n",
       "\n",
       "    .dataframe tbody tr th {\n",
       "        vertical-align: top;\n",
       "    }\n",
       "\n",
       "    .dataframe thead th {\n",
       "        text-align: right;\n",
       "    }\n",
       "</style>\n",
       "<table border=\"1\" class=\"dataframe\">\n",
       "  <thead>\n",
       "    <tr style=\"text-align: right;\">\n",
       "      <th></th>\n",
       "      <th>Provider Name</th>\n",
       "      <th>State</th>\n",
       "      <th>City</th>\n",
       "      <th>Payment</th>\n",
       "    </tr>\n",
       "  </thead>\n",
       "  <tbody>\n",
       "    <tr>\n",
       "      <th>0</th>\n",
       "      <td>BRANDON ASTIN DMD LLC</td>\n",
       "      <td>AK</td>\n",
       "      <td>ANCHOR POINT</td>\n",
       "      <td>$113,026</td>\n",
       "    </tr>\n",
       "    <tr>\n",
       "      <th>1</th>\n",
       "      <td>ELIZABETH WATNEY</td>\n",
       "      <td>AK</td>\n",
       "      <td>ANCHOR POINT</td>\n",
       "      <td>$724</td>\n",
       "    </tr>\n",
       "    <tr>\n",
       "      <th>2</th>\n",
       "      <td>HAPPY VALLEY ASSISTED LIVING LLC</td>\n",
       "      <td>AK</td>\n",
       "      <td>ANCHOR POINT</td>\n",
       "      <td>$12,664</td>\n",
       "    </tr>\n",
       "    <tr>\n",
       "      <th>3</th>\n",
       "      <td>A HAND UP BEHAVIOR SERVICES</td>\n",
       "      <td>AK</td>\n",
       "      <td>ANCHORAGE</td>\n",
       "      <td>$1,191</td>\n",
       "    </tr>\n",
       "    <tr>\n",
       "      <th>4</th>\n",
       "      <td>A JOINT EFFORT PHYSICAL THERAPY</td>\n",
       "      <td>AK</td>\n",
       "      <td>ANCHORAGE</td>\n",
       "      <td>$25,480</td>\n",
       "    </tr>\n",
       "    <tr>\n",
       "      <th>...</th>\n",
       "      <td>...</td>\n",
       "      <td>...</td>\n",
       "      <td>...</td>\n",
       "      <td>...</td>\n",
       "    </tr>\n",
       "    <tr>\n",
       "      <th>420917</th>\n",
       "      <td>JEFFRIES DENTAL,PC</td>\n",
       "      <td>WY</td>\n",
       "      <td>WORLAND</td>\n",
       "      <td>$25,776</td>\n",
       "    </tr>\n",
       "    <tr>\n",
       "      <th>420918</th>\n",
       "      <td>UROLOGICAL SERVICES OF NORTHERN WYOMING PROFES...</td>\n",
       "      <td>WY</td>\n",
       "      <td>WORLAND</td>\n",
       "      <td>$8,883</td>\n",
       "    </tr>\n",
       "    <tr>\n",
       "      <th>420919</th>\n",
       "      <td>WORLAND PHARMACY INC</td>\n",
       "      <td>WY</td>\n",
       "      <td>WORLAND</td>\n",
       "      <td>$137</td>\n",
       "    </tr>\n",
       "    <tr>\n",
       "      <th>420920</th>\n",
       "      <td>WORLAND PHYSICAL THERAPY</td>\n",
       "      <td>WY</td>\n",
       "      <td>WORLAND</td>\n",
       "      <td>$11,498</td>\n",
       "    </tr>\n",
       "    <tr>\n",
       "      <th>420921</th>\n",
       "      <td>WORLAND SLEEP DIAGNOSTICS LLC</td>\n",
       "      <td>WY</td>\n",
       "      <td>WORLAND</td>\n",
       "      <td>$2,009</td>\n",
       "    </tr>\n",
       "  </tbody>\n",
       "</table>\n",
       "<p>420922 rows × 4 columns</p>\n",
       "</div>"
      ],
      "text/plain": [
       "                                            Provider Name State          City  \\\n",
       "0                                   BRANDON ASTIN DMD LLC    AK  ANCHOR POINT   \n",
       "1                                        ELIZABETH WATNEY    AK  ANCHOR POINT   \n",
       "2                        HAPPY VALLEY ASSISTED LIVING LLC    AK  ANCHOR POINT   \n",
       "3                             A HAND UP BEHAVIOR SERVICES    AK     ANCHORAGE   \n",
       "4                         A JOINT EFFORT PHYSICAL THERAPY    AK     ANCHORAGE   \n",
       "...                                                   ...   ...           ...   \n",
       "420917                                 JEFFRIES DENTAL,PC    WY       WORLAND   \n",
       "420918  UROLOGICAL SERVICES OF NORTHERN WYOMING PROFES...    WY       WORLAND   \n",
       "420919                               WORLAND PHARMACY INC    WY       WORLAND   \n",
       "420920                           WORLAND PHYSICAL THERAPY    WY       WORLAND   \n",
       "420921                      WORLAND SLEEP DIAGNOSTICS LLC    WY       WORLAND   \n",
       "\n",
       "          Payment  \n",
       "0       $113,026   \n",
       "1           $724   \n",
       "2        $12,664   \n",
       "3         $1,191   \n",
       "4        $25,480   \n",
       "...           ...  \n",
       "420917   $25,776   \n",
       "420918    $8,883   \n",
       "420919      $137   \n",
       "420920   $11,498   \n",
       "420921    $2,009   \n",
       "\n",
       "[420922 rows x 4 columns]"
      ]
     },
     "execution_count": 3,
     "metadata": {},
     "output_type": "execute_result"
    }
   ],
   "source": [
    "data"
   ]
  },
  {
   "cell_type": "code",
   "execution_count": 4,
   "metadata": {},
   "outputs": [],
   "source": [
    "san = ['CA']"
   ]
  },
  {
   "cell_type": "code",
   "execution_count": 5,
   "metadata": {},
   "outputs": [],
   "source": [
    "new_san = data[data.State.isin(san)]"
   ]
  },
  {
   "cell_type": "code",
   "execution_count": 6,
   "metadata": {},
   "outputs": [
    {
     "data": {
      "text/html": [
       "<div>\n",
       "<style scoped>\n",
       "    .dataframe tbody tr th:only-of-type {\n",
       "        vertical-align: middle;\n",
       "    }\n",
       "\n",
       "    .dataframe tbody tr th {\n",
       "        vertical-align: top;\n",
       "    }\n",
       "\n",
       "    .dataframe thead th {\n",
       "        text-align: right;\n",
       "    }\n",
       "</style>\n",
       "<table border=\"1\" class=\"dataframe\">\n",
       "  <thead>\n",
       "    <tr style=\"text-align: right;\">\n",
       "      <th></th>\n",
       "      <th>Provider Name</th>\n",
       "      <th>State</th>\n",
       "      <th>City</th>\n",
       "      <th>Payment</th>\n",
       "    </tr>\n",
       "  </thead>\n",
       "  <tbody>\n",
       "    <tr>\n",
       "      <th>18087</th>\n",
       "      <td>ARTURO CORDOVA</td>\n",
       "      <td>CA</td>\n",
       "      <td>ACTON</td>\n",
       "      <td>$1,218</td>\n",
       "    </tr>\n",
       "    <tr>\n",
       "      <th>18088</th>\n",
       "      <td>ELITE HOME CARE, INC.</td>\n",
       "      <td>CA</td>\n",
       "      <td>ACTON</td>\n",
       "      <td>$118,535</td>\n",
       "    </tr>\n",
       "    <tr>\n",
       "      <th>18089</th>\n",
       "      <td>JAMES A. SCHAUBEL, DDS</td>\n",
       "      <td>CA</td>\n",
       "      <td>ACTON</td>\n",
       "      <td>$12,031</td>\n",
       "    </tr>\n",
       "    <tr>\n",
       "      <th>18090</th>\n",
       "      <td>PHILIP PINTO</td>\n",
       "      <td>CA</td>\n",
       "      <td>ACTON</td>\n",
       "      <td>$2,120</td>\n",
       "    </tr>\n",
       "    <tr>\n",
       "      <th>18091</th>\n",
       "      <td>SANTIAGO PHYSICAL THERAPY INC</td>\n",
       "      <td>CA</td>\n",
       "      <td>ACTON</td>\n",
       "      <td>$3,337</td>\n",
       "    </tr>\n",
       "    <tr>\n",
       "      <th>...</th>\n",
       "      <td>...</td>\n",
       "      <td>...</td>\n",
       "      <td>...</td>\n",
       "      <td>...</td>\n",
       "    </tr>\n",
       "    <tr>\n",
       "      <th>70148</th>\n",
       "      <td>VALARIE CARPENTER</td>\n",
       "      <td>CA</td>\n",
       "      <td>YUCCA VALLEY</td>\n",
       "      <td>$1,682</td>\n",
       "    </tr>\n",
       "    <tr>\n",
       "      <th>70149</th>\n",
       "      <td>YANE DAVID LEVY</td>\n",
       "      <td>CA</td>\n",
       "      <td>YUCCA VALLEY</td>\n",
       "      <td>$56,327</td>\n",
       "    </tr>\n",
       "    <tr>\n",
       "      <th>70150</th>\n",
       "      <td>YOONHO CHANG DDS INC</td>\n",
       "      <td>CA</td>\n",
       "      <td>YUCCA VALLEY</td>\n",
       "      <td>$80,913</td>\n",
       "    </tr>\n",
       "    <tr>\n",
       "      <th>70151</th>\n",
       "      <td>YUCCA FAMILY MEDICAL CARE, INC.</td>\n",
       "      <td>CA</td>\n",
       "      <td>YUCCA VALLEY</td>\n",
       "      <td>$209,926</td>\n",
       "    </tr>\n",
       "    <tr>\n",
       "      <th>70152</th>\n",
       "      <td>YUCCA VALLEY URGENT CARE INC</td>\n",
       "      <td>CA</td>\n",
       "      <td>YUCCA VALLEY</td>\n",
       "      <td>$5,676</td>\n",
       "    </tr>\n",
       "  </tbody>\n",
       "</table>\n",
       "<p>52066 rows × 4 columns</p>\n",
       "</div>"
      ],
      "text/plain": [
       "                         Provider Name State          City    Payment\n",
       "18087                   ARTURO CORDOVA    CA         ACTON    $1,218 \n",
       "18088            ELITE HOME CARE, INC.    CA         ACTON  $118,535 \n",
       "18089           JAMES A. SCHAUBEL, DDS    CA         ACTON   $12,031 \n",
       "18090                     PHILIP PINTO    CA         ACTON    $2,120 \n",
       "18091    SANTIAGO PHYSICAL THERAPY INC    CA         ACTON    $3,337 \n",
       "...                                ...   ...           ...        ...\n",
       "70148                VALARIE CARPENTER    CA  YUCCA VALLEY    $1,682 \n",
       "70149                  YANE DAVID LEVY    CA  YUCCA VALLEY   $56,327 \n",
       "70150             YOONHO CHANG DDS INC    CA  YUCCA VALLEY   $80,913 \n",
       "70151  YUCCA FAMILY MEDICAL CARE, INC.    CA  YUCCA VALLEY  $209,926 \n",
       "70152     YUCCA VALLEY URGENT CARE INC    CA  YUCCA VALLEY    $5,676 \n",
       "\n",
       "[52066 rows x 4 columns]"
      ]
     },
     "execution_count": 6,
     "metadata": {},
     "output_type": "execute_result"
    }
   ],
   "source": [
    "new_san"
   ]
  },
  {
   "cell_type": "code",
   "execution_count": 7,
   "metadata": {},
   "outputs": [],
   "source": [
    "san_cou = ['ALPINE', 'BONITA', 'BOULEVARD', 'CAMPO', 'CHULA VISTA', 'DESCANSO', 'DULZURA', 'GUATAY', 'IMPERIAL BEACH', 'JACUMBA', 'JAMUL', 'LA MESA', 'LEMON GROVE', 'LINCOLN ACRES', 'NATIONAL CITY', 'PINE VALLEY', 'POTRERO', 'SPRING VALLEY', 'TECATE', 'BONSALL', 'BORRENGO SPRINGS', 'OCOTILLO WELLS', 'CARDIFF BY THE SEA', 'CARLSBAD', 'DEL MAR', 'EL CAJON', 'ENCINITAS', 'ESCONDIDO', 'FALLBROOK', 'JULIAN', 'LA JOLLA', 'LAKESIDE', 'OCEANSIDE', 'CAMP PENDLETON', 'PALA', 'PALOMAR MOUNTAIN', 'PAUMA VALLEY', 'POWAY', 'RAMONA', 'RANCHITA', 'WARNER SPRINGS', 'RANCHO SANTA FE', 'SAN RUIS REY', 'SAN MARCOS', 'SANTA YSABEL', 'SANTEE', 'SOLANA BEACH', 'SAN MARCOS', 'VISTA', 'VALLEY CENTER', 'FALLBROOK', 'EL CAJON', 'RANCHO SANTA FE', 'SAN MARCOS', 'SAN DIEGO', 'CORONADO', 'SAN YSIDRO']"
   ]
  },
  {
   "cell_type": "code",
   "execution_count": 8,
   "metadata": {},
   "outputs": [],
   "source": [
    "san_diego_relief = new_san[new_san.City.isin(san_cou)]"
   ]
  },
  {
   "cell_type": "code",
   "execution_count": 9,
   "metadata": {},
   "outputs": [
    {
     "data": {
      "text/html": [
       "<div>\n",
       "<style scoped>\n",
       "    .dataframe tbody tr th:only-of-type {\n",
       "        vertical-align: middle;\n",
       "    }\n",
       "\n",
       "    .dataframe tbody tr th {\n",
       "        vertical-align: top;\n",
       "    }\n",
       "\n",
       "    .dataframe thead th {\n",
       "        text-align: right;\n",
       "    }\n",
       "</style>\n",
       "<table border=\"1\" class=\"dataframe\">\n",
       "  <thead>\n",
       "    <tr style=\"text-align: right;\">\n",
       "      <th></th>\n",
       "      <th>Provider Name</th>\n",
       "      <th>State</th>\n",
       "      <th>City</th>\n",
       "      <th>Payment</th>\n",
       "    </tr>\n",
       "  </thead>\n",
       "  <tbody>\n",
       "    <tr>\n",
       "      <th>18645</th>\n",
       "      <td>2120 ALPINE BLVD</td>\n",
       "      <td>CA</td>\n",
       "      <td>ALPINE</td>\n",
       "      <td>$280,570</td>\n",
       "    </tr>\n",
       "    <tr>\n",
       "      <th>18646</th>\n",
       "      <td>A J KLEIN MD A PROFESSIONAL CORPORATION</td>\n",
       "      <td>CA</td>\n",
       "      <td>ALPINE</td>\n",
       "      <td>$1,401</td>\n",
       "    </tr>\n",
       "    <tr>\n",
       "      <th>18647</th>\n",
       "      <td>ALPINE PHYSICAL THERAPY &amp; WELLNESS CENTER, INC</td>\n",
       "      <td>CA</td>\n",
       "      <td>ALPINE</td>\n",
       "      <td>$31,770</td>\n",
       "    </tr>\n",
       "    <tr>\n",
       "      <th>18648</th>\n",
       "      <td>CYNTHIA L JACKSON, DDS, MS INC.</td>\n",
       "      <td>CA</td>\n",
       "      <td>ALPINE</td>\n",
       "      <td>$11,724</td>\n",
       "    </tr>\n",
       "    <tr>\n",
       "      <th>18649</th>\n",
       "      <td>JONAR R. BONIFACIO, DDS, INC.</td>\n",
       "      <td>CA</td>\n",
       "      <td>ALPINE</td>\n",
       "      <td>$36,217</td>\n",
       "    </tr>\n",
       "    <tr>\n",
       "      <th>...</th>\n",
       "      <td>...</td>\n",
       "      <td>...</td>\n",
       "      <td>...</td>\n",
       "      <td>...</td>\n",
       "    </tr>\n",
       "    <tr>\n",
       "      <th>67966</th>\n",
       "      <td>VISTA HOSPICE CARE INC</td>\n",
       "      <td>CA</td>\n",
       "      <td>VISTA</td>\n",
       "      <td>$151,702</td>\n",
       "    </tr>\n",
       "    <tr>\n",
       "      <th>67967</th>\n",
       "      <td>VISTA PHYSICAL THERAPY AND REHAB PC</td>\n",
       "      <td>CA</td>\n",
       "      <td>VISTA</td>\n",
       "      <td>$15,557</td>\n",
       "    </tr>\n",
       "    <tr>\n",
       "      <th>67968</th>\n",
       "      <td>VISTA POST ACUTE CENTER LLC</td>\n",
       "      <td>CA</td>\n",
       "      <td>VISTA</td>\n",
       "      <td>$1,317,998</td>\n",
       "    </tr>\n",
       "    <tr>\n",
       "      <th>67969</th>\n",
       "      <td>WENDY SHUMATE, MD</td>\n",
       "      <td>CA</td>\n",
       "      <td>VISTA</td>\n",
       "      <td>$11,756</td>\n",
       "    </tr>\n",
       "    <tr>\n",
       "      <th>67970</th>\n",
       "      <td>XIANGLI LI MD PC</td>\n",
       "      <td>CA</td>\n",
       "      <td>VISTA</td>\n",
       "      <td>$4,828</td>\n",
       "    </tr>\n",
       "  </tbody>\n",
       "</table>\n",
       "<p>4242 rows × 4 columns</p>\n",
       "</div>"
      ],
      "text/plain": [
       "                                        Provider Name State    City  \\\n",
       "18645                                2120 ALPINE BLVD    CA  ALPINE   \n",
       "18646         A J KLEIN MD A PROFESSIONAL CORPORATION    CA  ALPINE   \n",
       "18647  ALPINE PHYSICAL THERAPY & WELLNESS CENTER, INC    CA  ALPINE   \n",
       "18648                 CYNTHIA L JACKSON, DDS, MS INC.    CA  ALPINE   \n",
       "18649                   JONAR R. BONIFACIO, DDS, INC.    CA  ALPINE   \n",
       "...                                               ...   ...     ...   \n",
       "67966                          VISTA HOSPICE CARE INC    CA   VISTA   \n",
       "67967             VISTA PHYSICAL THERAPY AND REHAB PC    CA   VISTA   \n",
       "67968                     VISTA POST ACUTE CENTER LLC    CA   VISTA   \n",
       "67969                               WENDY SHUMATE, MD    CA   VISTA   \n",
       "67970                                XIANGLI LI MD PC    CA   VISTA   \n",
       "\n",
       "           Payment  \n",
       "18645    $280,570   \n",
       "18646      $1,401   \n",
       "18647     $31,770   \n",
       "18648     $11,724   \n",
       "18649     $36,217   \n",
       "...            ...  \n",
       "67966    $151,702   \n",
       "67967     $15,557   \n",
       "67968  $1,317,998   \n",
       "67969     $11,756   \n",
       "67970      $4,828   \n",
       "\n",
       "[4242 rows x 4 columns]"
      ]
     },
     "execution_count": 9,
     "metadata": {},
     "output_type": "execute_result"
    }
   ],
   "source": [
    "san_diego_relief"
   ]
  },
  {
   "cell_type": "code",
   "execution_count": 10,
   "metadata": {},
   "outputs": [],
   "source": [
    "df = san_diego_relief.reset_index(inplace=False, drop=True)"
   ]
  },
  {
   "cell_type": "code",
   "execution_count": 11,
   "metadata": {},
   "outputs": [
    {
     "data": {
      "text/html": [
       "<div>\n",
       "<style scoped>\n",
       "    .dataframe tbody tr th:only-of-type {\n",
       "        vertical-align: middle;\n",
       "    }\n",
       "\n",
       "    .dataframe tbody tr th {\n",
       "        vertical-align: top;\n",
       "    }\n",
       "\n",
       "    .dataframe thead th {\n",
       "        text-align: right;\n",
       "    }\n",
       "</style>\n",
       "<table border=\"1\" class=\"dataframe\">\n",
       "  <thead>\n",
       "    <tr style=\"text-align: right;\">\n",
       "      <th></th>\n",
       "      <th>Provider Name</th>\n",
       "      <th>State</th>\n",
       "      <th>City</th>\n",
       "      <th>Payment</th>\n",
       "    </tr>\n",
       "  </thead>\n",
       "  <tbody>\n",
       "    <tr>\n",
       "      <th>0</th>\n",
       "      <td>2120 ALPINE BLVD</td>\n",
       "      <td>CA</td>\n",
       "      <td>ALPINE</td>\n",
       "      <td>$280,570</td>\n",
       "    </tr>\n",
       "    <tr>\n",
       "      <th>1</th>\n",
       "      <td>A J KLEIN MD A PROFESSIONAL CORPORATION</td>\n",
       "      <td>CA</td>\n",
       "      <td>ALPINE</td>\n",
       "      <td>$1,401</td>\n",
       "    </tr>\n",
       "    <tr>\n",
       "      <th>2</th>\n",
       "      <td>ALPINE PHYSICAL THERAPY &amp; WELLNESS CENTER, INC</td>\n",
       "      <td>CA</td>\n",
       "      <td>ALPINE</td>\n",
       "      <td>$31,770</td>\n",
       "    </tr>\n",
       "    <tr>\n",
       "      <th>3</th>\n",
       "      <td>CYNTHIA L JACKSON, DDS, MS INC.</td>\n",
       "      <td>CA</td>\n",
       "      <td>ALPINE</td>\n",
       "      <td>$11,724</td>\n",
       "    </tr>\n",
       "    <tr>\n",
       "      <th>4</th>\n",
       "      <td>JONAR R. BONIFACIO, DDS, INC.</td>\n",
       "      <td>CA</td>\n",
       "      <td>ALPINE</td>\n",
       "      <td>$36,217</td>\n",
       "    </tr>\n",
       "    <tr>\n",
       "      <th>...</th>\n",
       "      <td>...</td>\n",
       "      <td>...</td>\n",
       "      <td>...</td>\n",
       "      <td>...</td>\n",
       "    </tr>\n",
       "    <tr>\n",
       "      <th>4237</th>\n",
       "      <td>VISTA HOSPICE CARE INC</td>\n",
       "      <td>CA</td>\n",
       "      <td>VISTA</td>\n",
       "      <td>$151,702</td>\n",
       "    </tr>\n",
       "    <tr>\n",
       "      <th>4238</th>\n",
       "      <td>VISTA PHYSICAL THERAPY AND REHAB PC</td>\n",
       "      <td>CA</td>\n",
       "      <td>VISTA</td>\n",
       "      <td>$15,557</td>\n",
       "    </tr>\n",
       "    <tr>\n",
       "      <th>4239</th>\n",
       "      <td>VISTA POST ACUTE CENTER LLC</td>\n",
       "      <td>CA</td>\n",
       "      <td>VISTA</td>\n",
       "      <td>$1,317,998</td>\n",
       "    </tr>\n",
       "    <tr>\n",
       "      <th>4240</th>\n",
       "      <td>WENDY SHUMATE, MD</td>\n",
       "      <td>CA</td>\n",
       "      <td>VISTA</td>\n",
       "      <td>$11,756</td>\n",
       "    </tr>\n",
       "    <tr>\n",
       "      <th>4241</th>\n",
       "      <td>XIANGLI LI MD PC</td>\n",
       "      <td>CA</td>\n",
       "      <td>VISTA</td>\n",
       "      <td>$4,828</td>\n",
       "    </tr>\n",
       "  </tbody>\n",
       "</table>\n",
       "<p>4242 rows × 4 columns</p>\n",
       "</div>"
      ],
      "text/plain": [
       "                                       Provider Name State    City  \\\n",
       "0                                   2120 ALPINE BLVD    CA  ALPINE   \n",
       "1            A J KLEIN MD A PROFESSIONAL CORPORATION    CA  ALPINE   \n",
       "2     ALPINE PHYSICAL THERAPY & WELLNESS CENTER, INC    CA  ALPINE   \n",
       "3                    CYNTHIA L JACKSON, DDS, MS INC.    CA  ALPINE   \n",
       "4                      JONAR R. BONIFACIO, DDS, INC.    CA  ALPINE   \n",
       "...                                              ...   ...     ...   \n",
       "4237                          VISTA HOSPICE CARE INC    CA   VISTA   \n",
       "4238             VISTA PHYSICAL THERAPY AND REHAB PC    CA   VISTA   \n",
       "4239                     VISTA POST ACUTE CENTER LLC    CA   VISTA   \n",
       "4240                               WENDY SHUMATE, MD    CA   VISTA   \n",
       "4241                                XIANGLI LI MD PC    CA   VISTA   \n",
       "\n",
       "          Payment  \n",
       "0       $280,570   \n",
       "1         $1,401   \n",
       "2        $31,770   \n",
       "3        $11,724   \n",
       "4        $36,217   \n",
       "...           ...  \n",
       "4237    $151,702   \n",
       "4238     $15,557   \n",
       "4239  $1,317,998   \n",
       "4240     $11,756   \n",
       "4241      $4,828   \n",
       "\n",
       "[4242 rows x 4 columns]"
      ]
     },
     "execution_count": 11,
     "metadata": {},
     "output_type": "execute_result"
    }
   ],
   "source": [
    "df"
   ]
  },
  {
   "cell_type": "markdown",
   "metadata": {},
   "source": [
    "DROP UNWANTED COLUMNS"
   ]
  },
  {
   "cell_type": "code",
   "execution_count": 12,
   "metadata": {},
   "outputs": [],
   "source": [
    "# df.drop(columns='index')"
   ]
  },
  {
   "cell_type": "markdown",
   "metadata": {},
   "source": [
    "Find Missing Values"
   ]
  },
  {
   "cell_type": "code",
   "execution_count": 13,
   "metadata": {},
   "outputs": [
    {
     "data": {
      "text/plain": [
       "Provider Name    0\n",
       "State            0\n",
       "City             0\n",
       "Payment          0\n",
       "dtype: int64"
      ]
     },
     "execution_count": 13,
     "metadata": {},
     "output_type": "execute_result"
    }
   ],
   "source": [
    "df.isna().sum()"
   ]
  },
  {
   "cell_type": "code",
   "execution_count": 14,
   "metadata": {},
   "outputs": [
    {
     "data": {
      "text/plain": [
       "0"
      ]
     },
     "execution_count": 14,
     "metadata": {},
     "output_type": "execute_result"
    }
   ],
   "source": [
    "df.duplicated().sum()"
   ]
  },
  {
   "cell_type": "code",
   "execution_count": 15,
   "metadata": {},
   "outputs": [
    {
     "name": "stdout",
     "output_type": "stream",
     "text": [
      "<class 'pandas.core.frame.DataFrame'>\n",
      "RangeIndex: 4242 entries, 0 to 4241\n",
      "Data columns (total 4 columns):\n",
      " #   Column         Non-Null Count  Dtype \n",
      "---  ------         --------------  ----- \n",
      " 0   Provider Name  4242 non-null   object\n",
      " 1   State          4242 non-null   object\n",
      " 2   City           4242 non-null   object\n",
      " 3   Payment        4242 non-null   object\n",
      "dtypes: object(4)\n",
      "memory usage: 132.7+ KB\n"
     ]
    }
   ],
   "source": [
    "df.info()"
   ]
  },
  {
   "cell_type": "code",
   "execution_count": 16,
   "metadata": {},
   "outputs": [
    {
     "name": "stderr",
     "output_type": "stream",
     "text": [
      "C:\\Users\\amunv\\AppData\\Local\\Temp\\ipykernel_10312\\731846615.py:1: FutureWarning: The default value of regex will change from True to False in a future version. In addition, single character regular expressions will *not* be treated as literal strings when regex=True.\n",
      "  df['Payment'] = df['Payment'].str.replace('$', '')\n"
     ]
    }
   ],
   "source": [
    "df['Payment'] = df['Payment'].str.replace('$', '')\n",
    "df['Payment'] = df['Payment'].str.replace(',', '')"
   ]
  },
  {
   "cell_type": "code",
   "execution_count": 17,
   "metadata": {},
   "outputs": [
    {
     "data": {
      "text/html": [
       "<div>\n",
       "<style scoped>\n",
       "    .dataframe tbody tr th:only-of-type {\n",
       "        vertical-align: middle;\n",
       "    }\n",
       "\n",
       "    .dataframe tbody tr th {\n",
       "        vertical-align: top;\n",
       "    }\n",
       "\n",
       "    .dataframe thead th {\n",
       "        text-align: right;\n",
       "    }\n",
       "</style>\n",
       "<table border=\"1\" class=\"dataframe\">\n",
       "  <thead>\n",
       "    <tr style=\"text-align: right;\">\n",
       "      <th></th>\n",
       "      <th>Provider Name</th>\n",
       "      <th>State</th>\n",
       "      <th>City</th>\n",
       "      <th>Payment</th>\n",
       "    </tr>\n",
       "  </thead>\n",
       "  <tbody>\n",
       "    <tr>\n",
       "      <th>0</th>\n",
       "      <td>2120 ALPINE BLVD</td>\n",
       "      <td>CA</td>\n",
       "      <td>ALPINE</td>\n",
       "      <td>280570</td>\n",
       "    </tr>\n",
       "    <tr>\n",
       "      <th>1</th>\n",
       "      <td>A J KLEIN MD A PROFESSIONAL CORPORATION</td>\n",
       "      <td>CA</td>\n",
       "      <td>ALPINE</td>\n",
       "      <td>1401</td>\n",
       "    </tr>\n",
       "    <tr>\n",
       "      <th>2</th>\n",
       "      <td>ALPINE PHYSICAL THERAPY &amp; WELLNESS CENTER, INC</td>\n",
       "      <td>CA</td>\n",
       "      <td>ALPINE</td>\n",
       "      <td>31770</td>\n",
       "    </tr>\n",
       "    <tr>\n",
       "      <th>3</th>\n",
       "      <td>CYNTHIA L JACKSON, DDS, MS INC.</td>\n",
       "      <td>CA</td>\n",
       "      <td>ALPINE</td>\n",
       "      <td>11724</td>\n",
       "    </tr>\n",
       "    <tr>\n",
       "      <th>4</th>\n",
       "      <td>JONAR R. BONIFACIO, DDS, INC.</td>\n",
       "      <td>CA</td>\n",
       "      <td>ALPINE</td>\n",
       "      <td>36217</td>\n",
       "    </tr>\n",
       "    <tr>\n",
       "      <th>...</th>\n",
       "      <td>...</td>\n",
       "      <td>...</td>\n",
       "      <td>...</td>\n",
       "      <td>...</td>\n",
       "    </tr>\n",
       "    <tr>\n",
       "      <th>4237</th>\n",
       "      <td>VISTA HOSPICE CARE INC</td>\n",
       "      <td>CA</td>\n",
       "      <td>VISTA</td>\n",
       "      <td>151702</td>\n",
       "    </tr>\n",
       "    <tr>\n",
       "      <th>4238</th>\n",
       "      <td>VISTA PHYSICAL THERAPY AND REHAB PC</td>\n",
       "      <td>CA</td>\n",
       "      <td>VISTA</td>\n",
       "      <td>15557</td>\n",
       "    </tr>\n",
       "    <tr>\n",
       "      <th>4239</th>\n",
       "      <td>VISTA POST ACUTE CENTER LLC</td>\n",
       "      <td>CA</td>\n",
       "      <td>VISTA</td>\n",
       "      <td>1317998</td>\n",
       "    </tr>\n",
       "    <tr>\n",
       "      <th>4240</th>\n",
       "      <td>WENDY SHUMATE, MD</td>\n",
       "      <td>CA</td>\n",
       "      <td>VISTA</td>\n",
       "      <td>11756</td>\n",
       "    </tr>\n",
       "    <tr>\n",
       "      <th>4241</th>\n",
       "      <td>XIANGLI LI MD PC</td>\n",
       "      <td>CA</td>\n",
       "      <td>VISTA</td>\n",
       "      <td>4828</td>\n",
       "    </tr>\n",
       "  </tbody>\n",
       "</table>\n",
       "<p>4242 rows × 4 columns</p>\n",
       "</div>"
      ],
      "text/plain": [
       "                                       Provider Name State    City   Payment\n",
       "0                                   2120 ALPINE BLVD    CA  ALPINE   280570 \n",
       "1            A J KLEIN MD A PROFESSIONAL CORPORATION    CA  ALPINE     1401 \n",
       "2     ALPINE PHYSICAL THERAPY & WELLNESS CENTER, INC    CA  ALPINE    31770 \n",
       "3                    CYNTHIA L JACKSON, DDS, MS INC.    CA  ALPINE    11724 \n",
       "4                      JONAR R. BONIFACIO, DDS, INC.    CA  ALPINE    36217 \n",
       "...                                              ...   ...     ...       ...\n",
       "4237                          VISTA HOSPICE CARE INC    CA   VISTA   151702 \n",
       "4238             VISTA PHYSICAL THERAPY AND REHAB PC    CA   VISTA    15557 \n",
       "4239                     VISTA POST ACUTE CENTER LLC    CA   VISTA  1317998 \n",
       "4240                               WENDY SHUMATE, MD    CA   VISTA    11756 \n",
       "4241                                XIANGLI LI MD PC    CA   VISTA     4828 \n",
       "\n",
       "[4242 rows x 4 columns]"
      ]
     },
     "execution_count": 17,
     "metadata": {},
     "output_type": "execute_result"
    }
   ],
   "source": [
    "df"
   ]
  },
  {
   "cell_type": "code",
   "execution_count": 18,
   "metadata": {},
   "outputs": [],
   "source": [
    "df['Payment'] = df['Payment'].astype('int64')"
   ]
  },
  {
   "cell_type": "code",
   "execution_count": 19,
   "metadata": {},
   "outputs": [
    {
     "data": {
      "text/html": [
       "<div>\n",
       "<style scoped>\n",
       "    .dataframe tbody tr th:only-of-type {\n",
       "        vertical-align: middle;\n",
       "    }\n",
       "\n",
       "    .dataframe tbody tr th {\n",
       "        vertical-align: top;\n",
       "    }\n",
       "\n",
       "    .dataframe thead th {\n",
       "        text-align: right;\n",
       "    }\n",
       "</style>\n",
       "<table border=\"1\" class=\"dataframe\">\n",
       "  <thead>\n",
       "    <tr style=\"text-align: right;\">\n",
       "      <th></th>\n",
       "      <th>Provider Name</th>\n",
       "      <th>State</th>\n",
       "      <th>City</th>\n",
       "      <th>Payment</th>\n",
       "    </tr>\n",
       "  </thead>\n",
       "  <tbody>\n",
       "    <tr>\n",
       "      <th>0</th>\n",
       "      <td>2120 ALPINE BLVD</td>\n",
       "      <td>CA</td>\n",
       "      <td>ALPINE</td>\n",
       "      <td>280570</td>\n",
       "    </tr>\n",
       "    <tr>\n",
       "      <th>1</th>\n",
       "      <td>A J KLEIN MD A PROFESSIONAL CORPORATION</td>\n",
       "      <td>CA</td>\n",
       "      <td>ALPINE</td>\n",
       "      <td>1401</td>\n",
       "    </tr>\n",
       "    <tr>\n",
       "      <th>2</th>\n",
       "      <td>ALPINE PHYSICAL THERAPY &amp; WELLNESS CENTER, INC</td>\n",
       "      <td>CA</td>\n",
       "      <td>ALPINE</td>\n",
       "      <td>31770</td>\n",
       "    </tr>\n",
       "    <tr>\n",
       "      <th>3</th>\n",
       "      <td>CYNTHIA L JACKSON, DDS, MS INC.</td>\n",
       "      <td>CA</td>\n",
       "      <td>ALPINE</td>\n",
       "      <td>11724</td>\n",
       "    </tr>\n",
       "    <tr>\n",
       "      <th>4</th>\n",
       "      <td>JONAR R. BONIFACIO, DDS, INC.</td>\n",
       "      <td>CA</td>\n",
       "      <td>ALPINE</td>\n",
       "      <td>36217</td>\n",
       "    </tr>\n",
       "    <tr>\n",
       "      <th>...</th>\n",
       "      <td>...</td>\n",
       "      <td>...</td>\n",
       "      <td>...</td>\n",
       "      <td>...</td>\n",
       "    </tr>\n",
       "    <tr>\n",
       "      <th>4237</th>\n",
       "      <td>VISTA HOSPICE CARE INC</td>\n",
       "      <td>CA</td>\n",
       "      <td>VISTA</td>\n",
       "      <td>151702</td>\n",
       "    </tr>\n",
       "    <tr>\n",
       "      <th>4238</th>\n",
       "      <td>VISTA PHYSICAL THERAPY AND REHAB PC</td>\n",
       "      <td>CA</td>\n",
       "      <td>VISTA</td>\n",
       "      <td>15557</td>\n",
       "    </tr>\n",
       "    <tr>\n",
       "      <th>4239</th>\n",
       "      <td>VISTA POST ACUTE CENTER LLC</td>\n",
       "      <td>CA</td>\n",
       "      <td>VISTA</td>\n",
       "      <td>1317998</td>\n",
       "    </tr>\n",
       "    <tr>\n",
       "      <th>4240</th>\n",
       "      <td>WENDY SHUMATE, MD</td>\n",
       "      <td>CA</td>\n",
       "      <td>VISTA</td>\n",
       "      <td>11756</td>\n",
       "    </tr>\n",
       "    <tr>\n",
       "      <th>4241</th>\n",
       "      <td>XIANGLI LI MD PC</td>\n",
       "      <td>CA</td>\n",
       "      <td>VISTA</td>\n",
       "      <td>4828</td>\n",
       "    </tr>\n",
       "  </tbody>\n",
       "</table>\n",
       "<p>4242 rows × 4 columns</p>\n",
       "</div>"
      ],
      "text/plain": [
       "                                       Provider Name State    City  Payment\n",
       "0                                   2120 ALPINE BLVD    CA  ALPINE   280570\n",
       "1            A J KLEIN MD A PROFESSIONAL CORPORATION    CA  ALPINE     1401\n",
       "2     ALPINE PHYSICAL THERAPY & WELLNESS CENTER, INC    CA  ALPINE    31770\n",
       "3                    CYNTHIA L JACKSON, DDS, MS INC.    CA  ALPINE    11724\n",
       "4                      JONAR R. BONIFACIO, DDS, INC.    CA  ALPINE    36217\n",
       "...                                              ...   ...     ...      ...\n",
       "4237                          VISTA HOSPICE CARE INC    CA   VISTA   151702\n",
       "4238             VISTA PHYSICAL THERAPY AND REHAB PC    CA   VISTA    15557\n",
       "4239                     VISTA POST ACUTE CENTER LLC    CA   VISTA  1317998\n",
       "4240                               WENDY SHUMATE, MD    CA   VISTA    11756\n",
       "4241                                XIANGLI LI MD PC    CA   VISTA     4828\n",
       "\n",
       "[4242 rows x 4 columns]"
      ]
     },
     "execution_count": 19,
     "metadata": {},
     "output_type": "execute_result"
    }
   ],
   "source": [
    "df"
   ]
  },
  {
   "cell_type": "code",
   "execution_count": 20,
   "metadata": {},
   "outputs": [
    {
     "name": "stdout",
     "output_type": "stream",
     "text": [
      "<class 'pandas.core.frame.DataFrame'>\n",
      "RangeIndex: 4242 entries, 0 to 4241\n",
      "Data columns (total 4 columns):\n",
      " #   Column         Non-Null Count  Dtype \n",
      "---  ------         --------------  ----- \n",
      " 0   Provider Name  4242 non-null   object\n",
      " 1   State          4242 non-null   object\n",
      " 2   City           4242 non-null   object\n",
      " 3   Payment        4242 non-null   int64 \n",
      "dtypes: int64(1), object(3)\n",
      "memory usage: 132.7+ KB\n"
     ]
    }
   ],
   "source": [
    "df.info()"
   ]
  },
  {
   "cell_type": "code",
   "execution_count": 21,
   "metadata": {},
   "outputs": [],
   "source": [
    "# df.plot.pie(x='City', y='Payment', rot=90, figsize=(20,10))"
   ]
  },
  {
   "cell_type": "markdown",
   "metadata": {},
   "source": [
    "SAVE THE FILE\n",
    "data = pd.read_csv(r'C:\\Data-Analysis\\Provider\\HHS_San_Diego.csv')"
   ]
  },
  {
   "cell_type": "code",
   "execution_count": 22,
   "metadata": {},
   "outputs": [],
   "source": [
    "# df.to_csv(r'C:\\Data-Analysis\\Provider\\clean_prov_dat.csv')"
   ]
  },
  {
   "cell_type": "code",
   "execution_count": 23,
   "metadata": {},
   "outputs": [
    {
     "data": {
      "text/html": [
       "<div>\n",
       "<style scoped>\n",
       "    .dataframe tbody tr th:only-of-type {\n",
       "        vertical-align: middle;\n",
       "    }\n",
       "\n",
       "    .dataframe tbody tr th {\n",
       "        vertical-align: top;\n",
       "    }\n",
       "\n",
       "    .dataframe thead th {\n",
       "        text-align: right;\n",
       "    }\n",
       "</style>\n",
       "<table border=\"1\" class=\"dataframe\">\n",
       "  <thead>\n",
       "    <tr style=\"text-align: right;\">\n",
       "      <th></th>\n",
       "      <th>Payment</th>\n",
       "    </tr>\n",
       "  </thead>\n",
       "  <tbody>\n",
       "    <tr>\n",
       "      <th>count</th>\n",
       "      <td>4.242000e+03</td>\n",
       "    </tr>\n",
       "    <tr>\n",
       "      <th>mean</th>\n",
       "      <td>2.198212e+05</td>\n",
       "    </tr>\n",
       "    <tr>\n",
       "      <th>std</th>\n",
       "      <td>3.258272e+06</td>\n",
       "    </tr>\n",
       "    <tr>\n",
       "      <th>min</th>\n",
       "      <td>2.000000e+00</td>\n",
       "    </tr>\n",
       "    <tr>\n",
       "      <th>25%</th>\n",
       "      <td>2.325500e+03</td>\n",
       "    </tr>\n",
       "    <tr>\n",
       "      <th>50%</th>\n",
       "      <td>1.314450e+04</td>\n",
       "    </tr>\n",
       "    <tr>\n",
       "      <th>75%</th>\n",
       "      <td>4.997850e+04</td>\n",
       "    </tr>\n",
       "    <tr>\n",
       "      <th>max</th>\n",
       "      <td>1.452183e+08</td>\n",
       "    </tr>\n",
       "  </tbody>\n",
       "</table>\n",
       "</div>"
      ],
      "text/plain": [
       "            Payment\n",
       "count  4.242000e+03\n",
       "mean   2.198212e+05\n",
       "std    3.258272e+06\n",
       "min    2.000000e+00\n",
       "25%    2.325500e+03\n",
       "50%    1.314450e+04\n",
       "75%    4.997850e+04\n",
       "max    1.452183e+08"
      ]
     },
     "execution_count": 23,
     "metadata": {},
     "output_type": "execute_result"
    }
   ],
   "source": [
    "df.describe()"
   ]
  },
  {
   "cell_type": "markdown",
   "metadata": {},
   "source": [
    "#MACHINE LEARNING"
   ]
  },
  {
   "cell_type": "code",
   "execution_count": 24,
   "metadata": {},
   "outputs": [],
   "source": [
    "\n",
    "from sklearn.preprocessing import LabelEncoder,OneHotEncoder,OrdinalEncoder,StandardScaler,MinMaxScaler\n",
    "from sklearn.model_selection import train_test_split\n",
    "from sklearn.linear_model import LogisticRegression\n",
    "from sklearn.metrics import r2_score, mean_squared_error, accuracy_score,confusion_matrix,silhouette_score, adjusted_rand_score\n",
    "from sklearn.ensemble import RandomForestClassifier\n",
    "from sklearn.compose import ColumnTransformer\n",
    "import warnings\n",
    "warnings.filterwarnings('ignore')\n",
    "from sklearn.neighbors import KNeighborsClassifier\n",
    "from sklearn.pipeline import Pipeline\n",
    "from sklearn.decomposition import PCA \n",
    "from sklearn.cluster import KMeans "
   ]
  },
  {
   "cell_type": "markdown",
   "metadata": {},
   "source": [
    "First Step is determining What regression to use based on data type. This is the formular and result"
   ]
  },
  {
   "cell_type": "code",
   "execution_count": 25,
   "metadata": {},
   "outputs": [],
   "source": [
    "target_count = df['Payment'].value_counts()"
   ]
  },
  {
   "cell_type": "code",
   "execution_count": 26,
   "metadata": {},
   "outputs": [
    {
     "data": {
      "text/plain": [
       "15       6\n",
       "187      5\n",
       "8        5\n",
       "321      5\n",
       "67       4\n",
       "        ..\n",
       "60528    1\n",
       "82954    1\n",
       "65451    1\n",
       "13047    1\n",
       "4828     1\n",
       "Name: Payment, Length: 3894, dtype: int64"
      ]
     },
     "execution_count": 26,
     "metadata": {},
     "output_type": "execute_result"
    }
   ],
   "source": [
    "target_count"
   ]
  },
  {
   "cell_type": "markdown",
   "metadata": {},
   "source": [
    "Looking Above, you can see that the variable is continous thus am going to Label Encode it"
   ]
  },
  {
   "cell_type": "markdown",
   "metadata": {},
   "source": [
    "Assign x and y values"
   ]
  },
  {
   "cell_type": "markdown",
   "metadata": {},
   "source": [
    "Since is OneHot, transform the values"
   ]
  },
  {
   "cell_type": "code",
   "execution_count": 42,
   "metadata": {},
   "outputs": [
    {
     "name": "stdout",
     "output_type": "stream",
     "text": [
      "<class 'pandas.core.frame.DataFrame'>\n",
      "RangeIndex: 4242 entries, 0 to 4241\n",
      "Data columns (total 4 columns):\n",
      " #   Column         Non-Null Count  Dtype \n",
      "---  ------         --------------  ----- \n",
      " 0   Provider Name  4242 non-null   object\n",
      " 1   State          4242 non-null   object\n",
      " 2   City           4242 non-null   object\n",
      " 3   Payment        4242 non-null   int64 \n",
      "dtypes: int64(1), object(3)\n",
      "memory usage: 132.7+ KB\n"
     ]
    }
   ],
   "source": [
    "df.info()"
   ]
  },
  {
   "cell_type": "code",
   "execution_count": 31,
   "metadata": {},
   "outputs": [],
   "source": [
    "y = df.Payment\n",
    "x_features = df.drop(['Payment'], axis=1)"
   ]
  },
  {
   "cell_type": "code",
   "execution_count": 40,
   "metadata": {},
   "outputs": [
    {
     "data": {
      "text/html": [
       "<div>\n",
       "<style scoped>\n",
       "    .dataframe tbody tr th:only-of-type {\n",
       "        vertical-align: middle;\n",
       "    }\n",
       "\n",
       "    .dataframe tbody tr th {\n",
       "        vertical-align: top;\n",
       "    }\n",
       "\n",
       "    .dataframe thead th {\n",
       "        text-align: right;\n",
       "    }\n",
       "</style>\n",
       "<table border=\"1\" class=\"dataframe\">\n",
       "  <thead>\n",
       "    <tr style=\"text-align: right;\">\n",
       "      <th></th>\n",
       "      <th>Payment</th>\n",
       "    </tr>\n",
       "  </thead>\n",
       "  <tbody>\n",
       "    <tr>\n",
       "      <th>0</th>\n",
       "      <td>280570</td>\n",
       "    </tr>\n",
       "    <tr>\n",
       "      <th>1</th>\n",
       "      <td>1401</td>\n",
       "    </tr>\n",
       "    <tr>\n",
       "      <th>2</th>\n",
       "      <td>31770</td>\n",
       "    </tr>\n",
       "    <tr>\n",
       "      <th>3</th>\n",
       "      <td>11724</td>\n",
       "    </tr>\n",
       "    <tr>\n",
       "      <th>4</th>\n",
       "      <td>36217</td>\n",
       "    </tr>\n",
       "    <tr>\n",
       "      <th>...</th>\n",
       "      <td>...</td>\n",
       "    </tr>\n",
       "    <tr>\n",
       "      <th>4237</th>\n",
       "      <td>151702</td>\n",
       "    </tr>\n",
       "    <tr>\n",
       "      <th>4238</th>\n",
       "      <td>15557</td>\n",
       "    </tr>\n",
       "    <tr>\n",
       "      <th>4239</th>\n",
       "      <td>1317998</td>\n",
       "    </tr>\n",
       "    <tr>\n",
       "      <th>4240</th>\n",
       "      <td>11756</td>\n",
       "    </tr>\n",
       "    <tr>\n",
       "      <th>4241</th>\n",
       "      <td>4828</td>\n",
       "    </tr>\n",
       "  </tbody>\n",
       "</table>\n",
       "<p>4242 rows × 1 columns</p>\n",
       "</div>"
      ],
      "text/plain": [
       "      Payment\n",
       "0      280570\n",
       "1        1401\n",
       "2       31770\n",
       "3       11724\n",
       "4       36217\n",
       "...       ...\n",
       "4237   151702\n",
       "4238    15557\n",
       "4239  1317998\n",
       "4240    11756\n",
       "4241     4828\n",
       "\n",
       "[4242 rows x 1 columns]"
      ]
     },
     "execution_count": 40,
     "metadata": {},
     "output_type": "execute_result"
    }
   ],
   "source": [
    "num_val = df.select_dtypes(include=['float64', 'int64'])\n",
    "num_val"
   ]
  },
  {
   "cell_type": "code",
   "execution_count": 41,
   "metadata": {},
   "outputs": [
    {
     "data": {
      "text/html": [
       "<div>\n",
       "<style scoped>\n",
       "    .dataframe tbody tr th:only-of-type {\n",
       "        vertical-align: middle;\n",
       "    }\n",
       "\n",
       "    .dataframe tbody tr th {\n",
       "        vertical-align: top;\n",
       "    }\n",
       "\n",
       "    .dataframe thead th {\n",
       "        text-align: right;\n",
       "    }\n",
       "</style>\n",
       "<table border=\"1\" class=\"dataframe\">\n",
       "  <thead>\n",
       "    <tr style=\"text-align: right;\">\n",
       "      <th></th>\n",
       "      <th>Provider Name</th>\n",
       "      <th>State</th>\n",
       "      <th>City</th>\n",
       "    </tr>\n",
       "  </thead>\n",
       "  <tbody>\n",
       "    <tr>\n",
       "      <th>0</th>\n",
       "      <td>2120 ALPINE BLVD</td>\n",
       "      <td>CA</td>\n",
       "      <td>ALPINE</td>\n",
       "    </tr>\n",
       "    <tr>\n",
       "      <th>1</th>\n",
       "      <td>A J KLEIN MD A PROFESSIONAL CORPORATION</td>\n",
       "      <td>CA</td>\n",
       "      <td>ALPINE</td>\n",
       "    </tr>\n",
       "    <tr>\n",
       "      <th>2</th>\n",
       "      <td>ALPINE PHYSICAL THERAPY &amp; WELLNESS CENTER, INC</td>\n",
       "      <td>CA</td>\n",
       "      <td>ALPINE</td>\n",
       "    </tr>\n",
       "    <tr>\n",
       "      <th>3</th>\n",
       "      <td>CYNTHIA L JACKSON, DDS, MS INC.</td>\n",
       "      <td>CA</td>\n",
       "      <td>ALPINE</td>\n",
       "    </tr>\n",
       "    <tr>\n",
       "      <th>4</th>\n",
       "      <td>JONAR R. BONIFACIO, DDS, INC.</td>\n",
       "      <td>CA</td>\n",
       "      <td>ALPINE</td>\n",
       "    </tr>\n",
       "    <tr>\n",
       "      <th>...</th>\n",
       "      <td>...</td>\n",
       "      <td>...</td>\n",
       "      <td>...</td>\n",
       "    </tr>\n",
       "    <tr>\n",
       "      <th>4237</th>\n",
       "      <td>VISTA HOSPICE CARE INC</td>\n",
       "      <td>CA</td>\n",
       "      <td>VISTA</td>\n",
       "    </tr>\n",
       "    <tr>\n",
       "      <th>4238</th>\n",
       "      <td>VISTA PHYSICAL THERAPY AND REHAB PC</td>\n",
       "      <td>CA</td>\n",
       "      <td>VISTA</td>\n",
       "    </tr>\n",
       "    <tr>\n",
       "      <th>4239</th>\n",
       "      <td>VISTA POST ACUTE CENTER LLC</td>\n",
       "      <td>CA</td>\n",
       "      <td>VISTA</td>\n",
       "    </tr>\n",
       "    <tr>\n",
       "      <th>4240</th>\n",
       "      <td>WENDY SHUMATE, MD</td>\n",
       "      <td>CA</td>\n",
       "      <td>VISTA</td>\n",
       "    </tr>\n",
       "    <tr>\n",
       "      <th>4241</th>\n",
       "      <td>XIANGLI LI MD PC</td>\n",
       "      <td>CA</td>\n",
       "      <td>VISTA</td>\n",
       "    </tr>\n",
       "  </tbody>\n",
       "</table>\n",
       "<p>4242 rows × 3 columns</p>\n",
       "</div>"
      ],
      "text/plain": [
       "                                       Provider Name State    City\n",
       "0                                   2120 ALPINE BLVD    CA  ALPINE\n",
       "1            A J KLEIN MD A PROFESSIONAL CORPORATION    CA  ALPINE\n",
       "2     ALPINE PHYSICAL THERAPY & WELLNESS CENTER, INC    CA  ALPINE\n",
       "3                    CYNTHIA L JACKSON, DDS, MS INC.    CA  ALPINE\n",
       "4                      JONAR R. BONIFACIO, DDS, INC.    CA  ALPINE\n",
       "...                                              ...   ...     ...\n",
       "4237                          VISTA HOSPICE CARE INC    CA   VISTA\n",
       "4238             VISTA PHYSICAL THERAPY AND REHAB PC    CA   VISTA\n",
       "4239                     VISTA POST ACUTE CENTER LLC    CA   VISTA\n",
       "4240                               WENDY SHUMATE, MD    CA   VISTA\n",
       "4241                                XIANGLI LI MD PC    CA   VISTA\n",
       "\n",
       "[4242 rows x 3 columns]"
      ]
     },
     "execution_count": 41,
     "metadata": {},
     "output_type": "execute_result"
    }
   ],
   "source": [
    "cat_val = df.select_dtypes(exclude=['float64', 'int64'])\n",
    "# cat_val"
   ]
  },
  {
   "cell_type": "markdown",
   "metadata": {},
   "source": [
    "Data preparation"
   ]
  },
  {
   "cell_type": "code",
   "execution_count": 44,
   "metadata": {},
   "outputs": [],
   "source": [
    "df.columns = df.columns.str.replace(' ', '')"
   ]
  },
  {
   "cell_type": "code",
   "execution_count": 45,
   "metadata": {},
   "outputs": [
    {
     "data": {
      "text/plain": [
       "Index(['ProviderName', 'State', 'City', 'Payment'], dtype='object')"
      ]
     },
     "execution_count": 45,
     "metadata": {},
     "output_type": "execute_result"
    }
   ],
   "source": [
    "df.columns"
   ]
  }
 ],
 "metadata": {
  "kernelspec": {
   "display_name": "Python 3.10.5 64-bit",
   "language": "python",
   "name": "python3"
  },
  "language_info": {
   "codemirror_mode": {
    "name": "ipython",
    "version": 3
   },
   "file_extension": ".py",
   "mimetype": "text/x-python",
   "name": "python",
   "nbconvert_exporter": "python",
   "pygments_lexer": "ipython3",
   "version": "3.10.5"
  },
  "orig_nbformat": 4,
  "vscode": {
   "interpreter": {
    "hash": "d8648c7b4c41d7b1ba15281cf9494171032f5d76df8e8415c1b8fb59c6c5a947"
   }
  }
 },
 "nbformat": 4,
 "nbformat_minor": 2
}
